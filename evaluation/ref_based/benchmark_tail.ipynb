{
 "cells": [
  {
   "cell_type": "markdown",
   "id": "7bfd40bc",
   "metadata": {},
   "source": [
    "# Head"
   ]
  },
  {
   "cell_type": "code",
   "execution_count": 1,
   "id": "0013e5b3",
   "metadata": {},
   "outputs": [
    {
     "data": {
      "text/html": [
       "<div>\n",
       "<style scoped>\n",
       "    .dataframe tbody tr th:only-of-type {\n",
       "        vertical-align: middle;\n",
       "    }\n",
       "\n",
       "    .dataframe tbody tr th {\n",
       "        vertical-align: top;\n",
       "    }\n",
       "\n",
       "    .dataframe thead th {\n",
       "        text-align: right;\n",
       "    }\n",
       "</style>\n",
       "<table border=\"1\" class=\"dataframe\">\n",
       "  <thead>\n",
       "    <tr style=\"text-align: right;\">\n",
       "      <th></th>\n",
       "      <th>doi</th>\n",
       "      <th>paper_id</th>\n",
       "      <th>abstract</th>\n",
       "      <th>annotation</th>\n",
       "      <th>llama4</th>\n",
       "      <th>gemma3</th>\n",
       "    </tr>\n",
       "  </thead>\n",
       "  <tbody>\n",
       "    <tr>\n",
       "      <th>0</th>\n",
       "      <td>10.1073/pnas.91.7.2757</td>\n",
       "      <td>107202074</td>\n",
       "      <td>The origin and taxonomic status of domesticate...</td>\n",
       "      <td>A demonstration that cattle have been domestic...</td>\n",
       "      <td>This study reports on mtDNA variation in domes...</td>\n",
       "      <td>Reference 48 reports evidence for two independ...</td>\n",
       "    </tr>\n",
       "    <tr>\n",
       "      <th>1</th>\n",
       "      <td>10.1093/genetics/154.4.1785</td>\n",
       "      <td>83366887</td>\n",
       "      <td>Abstract The domestic pig originates from the ...</td>\n",
       "      <td>Evidence is presented for independent domestic...</td>\n",
       "      <td>The data also highlight the value of this reso...</td>\n",
       "      <td>Reference 37 demonstrates a hybrid origin of m...</td>\n",
       "    </tr>\n",
       "    <tr>\n",
       "      <th>2</th>\n",
       "      <td>10.1073/pnas.96.16.9252</td>\n",
       "      <td>122095374</td>\n",
       "      <td>We previously mapped a quantitative trait locu...</td>\n",
       "      <td>This paper shows how the identity-by-descent a...</td>\n",
       "      <td>This study combines two different methods used...</td>\n",
       "      <td>This reference reports fine-mapping of a QTL f...</td>\n",
       "    </tr>\n",
       "    <tr>\n",
       "      <th>3</th>\n",
       "      <td>10.1101/gr.10.2.220</td>\n",
       "      <td>100831446</td>\n",
       "      <td>A genome-wide linkage disequilibrium (LD) map ...</td>\n",
       "      <td>The pattern of linkage disequilibrium (LD) acr...</td>\n",
       "      <td>This study examines the role of genetic drift ...</td>\n",
       "      <td>Reference 49 describes the use of LD mapping i...</td>\n",
       "    </tr>\n",
       "    <tr>\n",
       "      <th>4</th>\n",
       "      <td>10.1126/science.8134840</td>\n",
       "      <td>17452622</td>\n",
       "      <td>The European wild boar was crossed with the do...</td>\n",
       "      <td>The first paper to show the use of divergent i...</td>\n",
       "      <td>This study provides a comprehensive analysis o...</td>\n",
       "      <td>This study reports the identification of a maj...</td>\n",
       "    </tr>\n",
       "    <tr>\n",
       "      <th>...</th>\n",
       "      <td>...</td>\n",
       "      <td>...</td>\n",
       "      <td>...</td>\n",
       "      <td>...</td>\n",
       "      <td>...</td>\n",
       "      <td>...</td>\n",
       "    </tr>\n",
       "    <tr>\n",
       "      <th>35631</th>\n",
       "      <td>10.2337/db08-1168</td>\n",
       "      <td>4860455</td>\n",
       "      <td>OBJECTIVE—Regulatory T-cells (Tregs) have cata...</td>\n",
       "      <td>This article describes the good manufacturing ...</td>\n",
       "      <td>These results have implications for future stu...</td>\n",
       "      <td>Reference 52 reports on the expansion of human...</td>\n",
       "    </tr>\n",
       "    <tr>\n",
       "      <th>35632</th>\n",
       "      <td>10.1126/science.aar3246</td>\n",
       "      <td>4860145</td>\n",
       "      <td>Engineering cytokine-receptor pairs Interleuki...</td>\n",
       "      <td>This study reports the generation of an orthog...</td>\n",
       "      <td>This study demonstrates that low dose IL-2 sel...</td>\n",
       "      <td>This short communication reports that low-dose...</td>\n",
       "    </tr>\n",
       "    <tr>\n",
       "      <th>35633</th>\n",
       "      <td>10.1126/science.aad2791</td>\n",
       "      <td>62290395</td>\n",
       "      <td>T cells target peptide combos One of the endur...</td>\n",
       "      <td>This article shows that some diabetogenic T ce...</td>\n",
       "      <td>This study identifies a previously unrecognize...</td>\n",
       "      <td>This work reports that hybrid peptides generat...</td>\n",
       "    </tr>\n",
       "    <tr>\n",
       "      <th>35634</th>\n",
       "      <td>10.1073/pnas.1902566116</td>\n",
       "      <td>82979762</td>\n",
       "      <td>Polymorphic HLAs form the primary immune barri...</td>\n",
       "      <td>This article describes the development of gene...</td>\n",
       "      <td>This study describes engineering of human cell...</td>\n",
       "      <td>This reference details a gene therapy approach...</td>\n",
       "    </tr>\n",
       "    <tr>\n",
       "      <th>35635</th>\n",
       "      <td>10.4049/jimmunol.167.3.1245</td>\n",
       "      <td>20436631</td>\n",
       "      <td>Abstract Thymectomy in mice on neonatal day 3 ...</td>\n",
       "      <td>Together with Levings et al. (2001), Jonuleit ...</td>\n",
       "      <td>This study is the first to identify and charac...</td>\n",
       "      <td>This reference characterizes human regulatory ...</td>\n",
       "    </tr>\n",
       "  </tbody>\n",
       "</table>\n",
       "<p>35621 rows × 6 columns</p>\n",
       "</div>"
      ],
      "text/plain": [
       "                               doi   paper_id  \\\n",
       "0           10.1073/pnas.91.7.2757  107202074   \n",
       "1      10.1093/genetics/154.4.1785   83366887   \n",
       "2          10.1073/pnas.96.16.9252  122095374   \n",
       "3              10.1101/gr.10.2.220  100831446   \n",
       "4          10.1126/science.8134840   17452622   \n",
       "...                            ...        ...   \n",
       "35631            10.2337/db08-1168    4860455   \n",
       "35632      10.1126/science.aar3246    4860145   \n",
       "35633      10.1126/science.aad2791   62290395   \n",
       "35634      10.1073/pnas.1902566116   82979762   \n",
       "35635  10.4049/jimmunol.167.3.1245   20436631   \n",
       "\n",
       "                                                abstract  \\\n",
       "0      The origin and taxonomic status of domesticate...   \n",
       "1      Abstract The domestic pig originates from the ...   \n",
       "2      We previously mapped a quantitative trait locu...   \n",
       "3      A genome-wide linkage disequilibrium (LD) map ...   \n",
       "4      The European wild boar was crossed with the do...   \n",
       "...                                                  ...   \n",
       "35631  OBJECTIVE—Regulatory T-cells (Tregs) have cata...   \n",
       "35632  Engineering cytokine-receptor pairs Interleuki...   \n",
       "35633  T cells target peptide combos One of the endur...   \n",
       "35634  Polymorphic HLAs form the primary immune barri...   \n",
       "35635  Abstract Thymectomy in mice on neonatal day 3 ...   \n",
       "\n",
       "                                              annotation  \\\n",
       "0      A demonstration that cattle have been domestic...   \n",
       "1      Evidence is presented for independent domestic...   \n",
       "2      This paper shows how the identity-by-descent a...   \n",
       "3      The pattern of linkage disequilibrium (LD) acr...   \n",
       "4      The first paper to show the use of divergent i...   \n",
       "...                                                  ...   \n",
       "35631  This article describes the good manufacturing ...   \n",
       "35632  This study reports the generation of an orthog...   \n",
       "35633  This article shows that some diabetogenic T ce...   \n",
       "35634  This article describes the development of gene...   \n",
       "35635  Together with Levings et al. (2001), Jonuleit ...   \n",
       "\n",
       "                                                  llama4  \\\n",
       "0      This study reports on mtDNA variation in domes...   \n",
       "1      The data also highlight the value of this reso...   \n",
       "2      This study combines two different methods used...   \n",
       "3      This study examines the role of genetic drift ...   \n",
       "4      This study provides a comprehensive analysis o...   \n",
       "...                                                  ...   \n",
       "35631  These results have implications for future stu...   \n",
       "35632  This study demonstrates that low dose IL-2 sel...   \n",
       "35633  This study identifies a previously unrecognize...   \n",
       "35634  This study describes engineering of human cell...   \n",
       "35635  This study is the first to identify and charac...   \n",
       "\n",
       "                                                  gemma3  \n",
       "0      Reference 48 reports evidence for two independ...  \n",
       "1      Reference 37 demonstrates a hybrid origin of m...  \n",
       "2      This reference reports fine-mapping of a QTL f...  \n",
       "3      Reference 49 describes the use of LD mapping i...  \n",
       "4      This study reports the identification of a maj...  \n",
       "...                                                  ...  \n",
       "35631  Reference 52 reports on the expansion of human...  \n",
       "35632  This short communication reports that low-dose...  \n",
       "35633  This work reports that hybrid peptides generat...  \n",
       "35634  This reference details a gene therapy approach...  \n",
       "35635  This reference characterizes human regulatory ...  \n",
       "\n",
       "[35621 rows x 6 columns]"
      ]
     },
     "execution_count": 1,
     "metadata": {},
     "output_type": "execute_result"
    }
   ],
   "source": [
    "import pandas as pd\n",
    "from pathlib import Path\n",
    "home = Path.home()\n",
    "\n",
    "# models = ['qwen3', 'gemma3', 'llama4', 'qwq']\n",
    "models = ['llama4', 'gemma3']\n",
    "\n",
    "# suffixes = None\n",
    "# suffixes = '_sent_shuffle'\n",
    "suffixes = '_tail'\n",
    "\n",
    "if suffixes is not None:\n",
    "    csv_files = [home / f'projects/TLDR/data/paper_html_10.1038/abs_annotation/generated_annotations/{model}{suffixes}.txt' for model in models]\n",
    "else:\n",
    "    csv_files = [home / f'projects/TLDR/data/paper_html_10.1038/abs_annotation/generated_annotations/{model}.txt' for model in models]\n",
    "\n",
    "df = pd.read_csv(home / 'projects/TLDR/data/paper_html_10.1038/abs_annotation/test.tsv', sep='\\t')\n",
    "for model, csv_file in zip(models, csv_files):\n",
    "    single_df = pd.read_csv(csv_file, sep='\\t', header=None, names=[model])\n",
    "    df = df.join(single_df)\n",
    "\n",
    "for index in pd.read_csv(home / \"projects/TLDR/description/invalid_entry_in_test.txt\", sep='\\t', header=None).values.flatten().tolist():\n",
    "    df = df.drop(index-2)  # Adjusting for zero-based index\n",
    "df"
   ]
  },
  {
   "cell_type": "markdown",
   "id": "5ccece17",
   "metadata": {},
   "source": [
    "# Overlap-based"
   ]
  },
  {
   "cell_type": "code",
   "execution_count": 2,
   "id": "73336b00",
   "metadata": {},
   "outputs": [
    {
     "name": "stderr",
     "output_type": "stream",
     "text": [
      "/opt/anaconda3/envs/zqlyuTLDR/lib/python3.13/site-packages/requests/__init__.py:86: RequestsDependencyWarning: Unable to find acceptable character detection dependency (chardet or charset_normalizer).\n",
      "  warnings.warn(\n"
     ]
    }
   ],
   "source": [
    "import evaluate\n",
    "\n",
    "def evaluate_metrics(df, pred_col='prediction', ref_col='reference'):\n",
    "    references = df[ref_col].tolist()\n",
    "    predictions = df[pred_col].tolist()\n",
    "\n",
    "    # BLEU\n",
    "    bleu = evaluate.load(\"bleu\")\n",
    "    bleu_result = bleu.compute(\n",
    "        predictions=predictions,                 # 每个元素是一个字符串\n",
    "        references=[[ref] for ref in references] # 每个元素是字符串列表\n",
    "    )\n",
    "\n",
    "    # METEOR\n",
    "    meteor = evaluate.load(\"meteor\")\n",
    "    meteor_result = meteor.compute(predictions=predictions, references=references)\n",
    "\n",
    "    # ROUGE\n",
    "    rouge = evaluate.load(\"rouge\")\n",
    "    rouge_result = rouge.compute(\n",
    "        predictions=predictions,\n",
    "        references=references,\n",
    "        rouge_types=[\"rouge1\", \"rouge2\", \"rougeL\"]\n",
    "    )\n",
    "\n",
    "    # 只返回需要的分数，便于后续统计平均\n",
    "    rouge_f = {rouge_type: rouge_result[rouge_type] if rouge_result is not None else None \n",
    "               for rouge_type in [\"rouge1\", \"rouge2\", \"rougeL\"]}\n",
    "\n",
    "    return {\n",
    "        'bleu': bleu_result[\"bleu\"] if bleu_result is not None else None,\n",
    "        'rouge': rouge_f,\n",
    "        'meteor': meteor_result[\"meteor\"] if meteor_result is not None else None,\n",
    "    }"
   ]
  },
  {
   "cell_type": "markdown",
   "id": "82b2306e",
   "metadata": {},
   "source": [
    "## Human-written annotations as references"
   ]
  },
  {
   "cell_type": "markdown",
   "id": "93e2eb0a",
   "metadata": {},
   "source": [
    "### LLMs' performance"
   ]
  },
  {
   "cell_type": "code",
   "execution_count": 3,
   "id": "1b8adbe9",
   "metadata": {},
   "outputs": [
    {
     "name": "stderr",
     "output_type": "stream",
     "text": [
      "[nltk_data] Downloading package wordnet to /home/zqlyu2/nltk_data...\n",
      "[nltk_data]   Package wordnet is already up-to-date!\n",
      "[nltk_data] Downloading package punkt_tab to /home/zqlyu2/nltk_data...\n",
      "[nltk_data]   Package punkt_tab is already up-to-date!\n",
      "[nltk_data] Downloading package omw-1.4 to /home/zqlyu2/nltk_data...\n",
      "[nltk_data]   Package omw-1.4 is already up-to-date!\n"
     ]
    },
    {
     "data": {
      "text/plain": [
       "{'bleu': 0.019887477342082245,\n",
       " 'rouge': {'rouge1': np.float64(0.24788200505452687),\n",
       "  'rouge2': np.float64(0.05090276476031293),\n",
       "  'rougeL': np.float64(0.19192940494990046)},\n",
       " 'meteor': np.float64(0.20307779408308785)}"
      ]
     },
     "execution_count": 3,
     "metadata": {},
     "output_type": "execute_result"
    }
   ],
   "source": [
    "evaluate_metrics(df, pred_col='gemma3', ref_col='annotation')"
   ]
  },
  {
   "cell_type": "code",
   "execution_count": 4,
   "id": "4e3392fa",
   "metadata": {},
   "outputs": [
    {
     "name": "stderr",
     "output_type": "stream",
     "text": [
      "[nltk_data] Downloading package wordnet to /home/zqlyu2/nltk_data...\n",
      "[nltk_data]   Package wordnet is already up-to-date!\n",
      "[nltk_data] Downloading package punkt_tab to /home/zqlyu2/nltk_data...\n",
      "[nltk_data]   Package punkt_tab is already up-to-date!\n",
      "[nltk_data] Downloading package omw-1.4 to /home/zqlyu2/nltk_data...\n",
      "[nltk_data]   Package omw-1.4 is already up-to-date!\n"
     ]
    },
    {
     "data": {
      "text/plain": [
       "{'bleu': 0.018902567305634575,\n",
       " 'rouge': {'rouge1': np.float64(0.23938686971344814),\n",
       "  'rouge2': np.float64(0.0459321530817411),\n",
       "  'rougeL': np.float64(0.1819147074966649)},\n",
       " 'meteor': np.float64(0.1985158543224368)}"
      ]
     },
     "execution_count": 4,
     "metadata": {},
     "output_type": "execute_result"
    }
   ],
   "source": [
    "evaluate_metrics(df, pred_col='llama4', ref_col='annotation')"
   ]
  },
  {
   "cell_type": "code",
   "execution_count": 5,
   "id": "567d7493",
   "metadata": {},
   "outputs": [
    {
     "name": "stderr",
     "output_type": "stream",
     "text": [
      "[nltk_data] Downloading package wordnet to\n",
      "[nltk_data]     /home/lyuzhuoqi/nltk_data...\n",
      "[nltk_data]   Package wordnet is already up-to-date!\n",
      "[nltk_data] Downloading package punkt_tab to\n",
      "[nltk_data]     /home/lyuzhuoqi/nltk_data...\n",
      "[nltk_data]   Package punkt_tab is already up-to-date!\n",
      "[nltk_data] Downloading package omw-1.4 to\n",
      "[nltk_data]     /home/lyuzhuoqi/nltk_data...\n",
      "[nltk_data]   Package omw-1.4 is already up-to-date!\n"
     ]
    },
    {
     "data": {
      "text/plain": [
       "{'bleu': 0.011977842430480163,\n",
       " 'meteor': 0.2444276480952033,\n",
       " 'rouge': {'rouge1': 0.2209834534176697,\n",
       "  'rouge2': 0.04533792571342782,\n",
       "  'rougeL': 0.1550987958773836}}"
      ]
     },
     "execution_count": 5,
     "metadata": {},
     "output_type": "execute_result"
    }
   ],
   "source": [
    "evaluate_metrics(df, pred_col='qwen3', ref_col='annotation')"
   ]
  },
  {
   "cell_type": "markdown",
   "id": "fec01a63",
   "metadata": {},
   "source": [
    "### Multi-annotated abstracts as a human-evaluation baseline"
   ]
  },
  {
   "cell_type": "code",
   "execution_count": null,
   "id": "ba6d7760",
   "metadata": {},
   "outputs": [
    {
     "name": "stdout",
     "output_type": "stream",
     "text": [
      "# of papers:  29356\n"
     ]
    },
    {
     "data": {
      "text/html": [
       "<div>\n",
       "<style scoped>\n",
       "    .dataframe tbody tr th:only-of-type {\n",
       "        vertical-align: middle;\n",
       "    }\n",
       "\n",
       "    .dataframe tbody tr th {\n",
       "        vertical-align: top;\n",
       "    }\n",
       "\n",
       "    .dataframe thead th {\n",
       "        text-align: right;\n",
       "    }\n",
       "</style>\n",
       "<table border=\"1\" class=\"dataframe\">\n",
       "  <thead>\n",
       "    <tr style=\"text-align: right;\">\n",
       "      <th></th>\n",
       "      <th>abs_doi</th>\n",
       "      <th>paper_id</th>\n",
       "      <th>abstract</th>\n",
       "      <th>annotation</th>\n",
       "    </tr>\n",
       "  </thead>\n",
       "  <tbody>\n",
       "    <tr>\n",
       "      <th>0</th>\n",
       "      <td>10.1073/pnas.91.7.2757</td>\n",
       "      <td>107202074</td>\n",
       "      <td>The origin and taxonomic status of domesticate...</td>\n",
       "      <td>A demonstration that cattle have been domestic...</td>\n",
       "    </tr>\n",
       "    <tr>\n",
       "      <th>1</th>\n",
       "      <td>10.1093/genetics/154.4.1785</td>\n",
       "      <td>83366887</td>\n",
       "      <td>Abstract The domestic pig originates from the ...</td>\n",
       "      <td>Evidence is presented for independent domestic...</td>\n",
       "    </tr>\n",
       "    <tr>\n",
       "      <th>7</th>\n",
       "      <td>10.1083/jcb.153.2.397</td>\n",
       "      <td>58551536</td>\n",
       "      <td>The correct positioning of the nucleus is ofte...</td>\n",
       "      <td>Using live imaging and computer simulation the...</td>\n",
       "    </tr>\n",
       "    <tr>\n",
       "      <th>8</th>\n",
       "      <td>10.1101/gad.14.6.690</td>\n",
       "      <td>131922988</td>\n",
       "      <td>E2F is a family of transcription factors that ...</td>\n",
       "      <td>Disruption of mouse E2f3 , but not E2f1 , redu...</td>\n",
       "    </tr>\n",
       "    <tr>\n",
       "      <th>10</th>\n",
       "      <td>10.1101/gad.859201</td>\n",
       "      <td>18000382</td>\n",
       "      <td>Telomere shortening is the mechanism underlyin...</td>\n",
       "      <td>Growing primary human keratinocytes and mammar...</td>\n",
       "    </tr>\n",
       "    <tr>\n",
       "      <th>...</th>\n",
       "      <td>...</td>\n",
       "      <td>...</td>\n",
       "      <td>...</td>\n",
       "      <td>...</td>\n",
       "    </tr>\n",
       "    <tr>\n",
       "      <th>35633</th>\n",
       "      <td>10.1126/scitranslmed.aad4134</td>\n",
       "      <td>103721459</td>\n",
       "      <td>Autologous regulatory T cells can be expanded ...</td>\n",
       "      <td>First clinical trial demonstrating up to 1 yea...</td>\n",
       "    </tr>\n",
       "    <tr>\n",
       "      <th>35634</th>\n",
       "      <td>10.1084/jem.20040139</td>\n",
       "      <td>83080620</td>\n",
       "      <td>The low number of CD4+ CD25+ regulatory T cell...</td>\n",
       "      <td>Seminal study showing that antigen-specific T ...</td>\n",
       "    </tr>\n",
       "    <tr>\n",
       "      <th>35637</th>\n",
       "      <td>10.1126/science.aar3246</td>\n",
       "      <td>4860145</td>\n",
       "      <td>Engineering cytokine-receptor pairs Interleuki...</td>\n",
       "      <td>This study reports the generation of an orthog...</td>\n",
       "    </tr>\n",
       "    <tr>\n",
       "      <th>35638</th>\n",
       "      <td>10.1126/science.aad2791</td>\n",
       "      <td>62290395</td>\n",
       "      <td>T cells target peptide combos One of the endur...</td>\n",
       "      <td>This article shows that some diabetogenic T ce...</td>\n",
       "    </tr>\n",
       "    <tr>\n",
       "      <th>35640</th>\n",
       "      <td>10.4049/jimmunol.167.3.1245</td>\n",
       "      <td>20436631</td>\n",
       "      <td>Abstract Thymectomy in mice on neonatal day 3 ...</td>\n",
       "      <td>Together with Levings et al. (2001), Jonuleit ...</td>\n",
       "    </tr>\n",
       "  </tbody>\n",
       "</table>\n",
       "<p>10304 rows × 4 columns</p>\n",
       "</div>"
      ],
      "text/plain": [
       "                            abs_doi   paper_id  \\\n",
       "0            10.1073/pnas.91.7.2757  107202074   \n",
       "1       10.1093/genetics/154.4.1785   83366887   \n",
       "7             10.1083/jcb.153.2.397   58551536   \n",
       "8              10.1101/gad.14.6.690  131922988   \n",
       "10               10.1101/gad.859201   18000382   \n",
       "...                             ...        ...   \n",
       "35633  10.1126/scitranslmed.aad4134  103721459   \n",
       "35634          10.1084/jem.20040139   83080620   \n",
       "35637       10.1126/science.aar3246    4860145   \n",
       "35638       10.1126/science.aad2791   62290395   \n",
       "35640   10.4049/jimmunol.167.3.1245   20436631   \n",
       "\n",
       "                                                abstract  \\\n",
       "0      The origin and taxonomic status of domesticate...   \n",
       "1      Abstract The domestic pig originates from the ...   \n",
       "7      The correct positioning of the nucleus is ofte...   \n",
       "8      E2F is a family of transcription factors that ...   \n",
       "10     Telomere shortening is the mechanism underlyin...   \n",
       "...                                                  ...   \n",
       "35633  Autologous regulatory T cells can be expanded ...   \n",
       "35634  The low number of CD4+ CD25+ regulatory T cell...   \n",
       "35637  Engineering cytokine-receptor pairs Interleuki...   \n",
       "35638  T cells target peptide combos One of the endur...   \n",
       "35640  Abstract Thymectomy in mice on neonatal day 3 ...   \n",
       "\n",
       "                                              annotation  \n",
       "0      A demonstration that cattle have been domestic...  \n",
       "1      Evidence is presented for independent domestic...  \n",
       "7      Using live imaging and computer simulation the...  \n",
       "8      Disruption of mouse E2f3 , but not E2f1 , redu...  \n",
       "10     Growing primary human keratinocytes and mammar...  \n",
       "...                                                  ...  \n",
       "35633  First clinical trial demonstrating up to 1 yea...  \n",
       "35634  Seminal study showing that antigen-specific T ...  \n",
       "35637  This study reports the generation of an orthog...  \n",
       "35638  This article shows that some diabetogenic T ce...  \n",
       "35640  Together with Levings et al. (2001), Jonuleit ...  \n",
       "\n",
       "[10304 rows x 4 columns]"
      ]
     },
     "metadata": {},
     "output_type": "display_data"
    },
    {
     "name": "stdout",
     "output_type": "stream",
     "text": [
      "4019 papers are annotated by multiple annotators\n"
     ]
    }
   ],
   "source": [
    "full = pd.read_csv(home / 'projects/TLDR/data/paper_html_10.1038/abs_annotation/abs_annotation.tsv', sep='\\t')\n",
    "print('# of papers: ', full['paper_id'].nunique())\n",
    "\n",
    "multi_annotated = full[full['paper_id'].isin(full['paper_id'].value_counts()[full['paper_id'].value_counts() > 1].index)]\n",
    "display(multi_annotated)\n",
    "print(multi_annotated['paper_id'].unique().shape[0], 'papers are annotated by multiple annotators')"
   ]
  },
  {
   "cell_type": "code",
   "execution_count": null,
   "id": "88517bba",
   "metadata": {},
   "outputs": [
    {
     "data": {
      "image/png": "[encoded data removed]",
      "text/plain": [
       "<Figure size 300x200 with 1 Axes>"
      ]
     },
     "metadata": {},
     "output_type": "display_data"
    }
   ],
   "source": [
    "import seaborn as sns\n",
    "import matplotlib.pyplot as plt\n",
    "\n",
    "paper_id_counts = full['paper_id'].value_counts()\n",
    "plt.figure(figsize=(3, 2))\n",
    "sns.histplot(x=paper_id_counts, bins=30, stat='count', discrete=True)\n",
    "plt.yscale('log')\n",
    "plt.xlabel('Times of being annotated')\n",
    "plt.ylabel('# of paper')\n",
    "plt.show()"
   ]
  },
  {
   "cell_type": "code",
   "execution_count": null,
   "id": "7f6a6668",
   "metadata": {},
   "outputs": [
    {
     "data": {
      "image/png": "[encoded data removed]",
      "text/plain": [
       "<Figure size 300x200 with 1 Axes>"
      ]
     },
     "metadata": {},
     "output_type": "display_data"
    }
   ],
   "source": [
    "import seaborn as sns\n",
    "import matplotlib.pyplot as plt\n",
    "\n",
    "paper_id_counts = multi_annotated['paper_id'].value_counts()\n",
    "plt.figure(figsize=(3, 2))\n",
    "sns.histplot(x=paper_id_counts, bins=30, stat='count', discrete=True)\n",
    "plt.yscale('log')\n",
    "plt.xlabel('Times of being annotated')\n",
    "plt.ylabel('# of paper')\n",
    "plt.show()"
   ]
  },
  {
   "cell_type": "code",
   "execution_count": null,
   "id": "b2e3d281",
   "metadata": {},
   "outputs": [
    {
     "name": "stderr",
     "output_type": "stream",
     "text": [
      "  0%|                                                                                                                                      | 0/10 [00:00<?, ?it/s][nltk_data] Downloading package wordnet to /home/zqlyu2/nltk_data...\n",
      "[nltk_data]   Package wordnet is already up-to-date!\n",
      "[nltk_data] Downloading package punkt_tab to /home/zqlyu2/nltk_data...\n",
      "[nltk_data]   Package punkt_tab is already up-to-date!\n",
      "[nltk_data] Downloading package omw-1.4 to /home/zqlyu2/nltk_data...\n",
      "[nltk_data]   Package omw-1.4 is already up-to-date!\n",
      " 10%|████████████▌                                                                                                                 | 1/10 [00:12<01:50, 12.32s/it][nltk_data] Downloading package wordnet to /home/zqlyu2/nltk_data...\n",
      "[nltk_data]   Package wordnet is already up-to-date!\n",
      "[nltk_data] Downloading package punkt_tab to /home/zqlyu2/nltk_data...\n",
      "[nltk_data]   Package punkt_tab is already up-to-date!\n",
      "[nltk_data] Downloading package omw-1.4 to /home/zqlyu2/nltk_data...\n",
      "[nltk_data]   Package omw-1.4 is already up-to-date!\n",
      " 20%|█████████████████████████▏                                                                                                    | 2/10 [00:22<01:29, 11.15s/it][nltk_data] Downloading package wordnet to /home/zqlyu2/nltk_data...\n",
      "[nltk_data]   Package wordnet is already up-to-date!\n",
      "[nltk_data] Downloading package punkt_tab to /home/zqlyu2/nltk_data...\n",
      "[nltk_data]   Package punkt_tab is already up-to-date!\n",
      "[nltk_data] Downloading package omw-1.4 to /home/zqlyu2/nltk_data...\n",
      "[nltk_data]   Package omw-1.4 is already up-to-date!\n",
      " 30%|█████████████████████████████████████▊                                                                                        | 3/10 [00:33<01:15, 10.80s/it][nltk_data] Downloading package wordnet to /home/zqlyu2/nltk_data...\n",
      "[nltk_data]   Package wordnet is already up-to-date!\n",
      "[nltk_data] Downloading package punkt_tab to /home/zqlyu2/nltk_data...\n",
      "[nltk_data]   Package punkt_tab is already up-to-date!\n",
      "[nltk_data] Downloading package omw-1.4 to /home/zqlyu2/nltk_data...\n",
      "[nltk_data]   Package omw-1.4 is already up-to-date!\n",
      " 40%|██████████████████████████████████████████████████▍                                                                           | 4/10 [00:43<01:03, 10.56s/it][nltk_data] Downloading package wordnet to /home/zqlyu2/nltk_data...\n",
      "[nltk_data]   Package wordnet is already up-to-date!\n",
      "[nltk_data] Downloading package punkt_tab to /home/zqlyu2/nltk_data...\n",
      "[nltk_data]   Package punkt_tab is already up-to-date!\n",
      "[nltk_data] Downloading package omw-1.4 to /home/zqlyu2/nltk_data...\n",
      "[nltk_data]   Package omw-1.4 is already up-to-date!\n",
      " 50%|███████████████████████████████████████████████████████████████                                                               | 5/10 [00:53<00:53, 10.64s/it][nltk_data] Downloading package wordnet to /home/zqlyu2/nltk_data...\n",
      "[nltk_data]   Package wordnet is already up-to-date!\n",
      "[nltk_data] Downloading package punkt_tab to /home/zqlyu2/nltk_data...\n",
      "[nltk_data]   Package punkt_tab is already up-to-date!\n",
      "[nltk_data] Downloading package omw-1.4 to /home/zqlyu2/nltk_data...\n",
      "[nltk_data]   Package omw-1.4 is already up-to-date!\n",
      " 60%|███████████████████████████████████████████████████████████████████████████▌                                                  | 6/10 [01:04<00:42, 10.51s/it][nltk_data] Downloading package wordnet to /home/zqlyu2/nltk_data...\n",
      "[nltk_data]   Package wordnet is already up-to-date!\n",
      "[nltk_data] Downloading package punkt_tab to /home/zqlyu2/nltk_data...\n",
      "[nltk_data]   Package punkt_tab is already up-to-date!\n",
      "[nltk_data] Downloading package omw-1.4 to /home/zqlyu2/nltk_data...\n",
      "[nltk_data]   Package omw-1.4 is already up-to-date!\n",
      " 70%|████████████████████████████████████████████████████████████████████████████████████████▏                                     | 7/10 [01:14<00:31, 10.46s/it][nltk_data] Downloading package wordnet to /home/zqlyu2/nltk_data...\n",
      "[nltk_data]   Package wordnet is already up-to-date!\n",
      "[nltk_data] Downloading package punkt_tab to /home/zqlyu2/nltk_data...\n",
      "[nltk_data]   Package punkt_tab is already up-to-date!\n",
      "[nltk_data] Downloading package omw-1.4 to /home/zqlyu2/nltk_data...\n",
      "[nltk_data]   Package omw-1.4 is already up-to-date!\n",
      " 80%|████████████████████████████████████████████████████████████████████████████████████████████████████▊                         | 8/10 [01:25<00:20, 10.47s/it][nltk_data] Downloading package wordnet to /home/zqlyu2/nltk_data...\n",
      "[nltk_data]   Package wordnet is already up-to-date!\n",
      "[nltk_data] Downloading package punkt_tab to /home/zqlyu2/nltk_data...\n",
      "[nltk_data]   Package punkt_tab is already up-to-date!\n",
      "[nltk_data] Downloading package omw-1.4 to /home/zqlyu2/nltk_data...\n",
      "[nltk_data]   Package omw-1.4 is already up-to-date!\n",
      " 90%|█████████████████████████████████████████████████████████████████████████████████████████████████████████████████▍            | 9/10 [01:35<00:10, 10.35s/it][nltk_data] Downloading package wordnet to /home/zqlyu2/nltk_data...\n",
      "[nltk_data]   Package wordnet is already up-to-date!\n",
      "[nltk_data] Downloading package punkt_tab to /home/zqlyu2/nltk_data...\n",
      "[nltk_data]   Package punkt_tab is already up-to-date!\n",
      "[nltk_data] Downloading package omw-1.4 to /home/zqlyu2/nltk_data...\n",
      "[nltk_data]   Package omw-1.4 is already up-to-date!\n",
      "100%|█████████████████████████████████████████████████████████████████████████████████████████████████████████████████████████████| 10/10 [01:45<00:00, 10.51s/it]\n"
     ]
    }
   ],
   "source": [
    "import random\n",
    "from tqdm import tqdm\n",
    "\n",
    "all_scores = []\n",
    "n_sample = 10  # 抽样次数\n",
    "\n",
    "for _ in tqdm(range(n_sample)):\n",
    "    grouped = multi_annotated.groupby('paper_id')\n",
    "    results = []\n",
    "    for paper_id, group in grouped:\n",
    "        annotations = group['annotation'].tolist()\n",
    "        if len(annotations) < 2:\n",
    "            continue\n",
    "        ref = random.choice(annotations)\n",
    "        preds = [a for a in annotations if a != ref]\n",
    "        for pred in preds:\n",
    "            results.append({'paper_id': paper_id, 'reference': ref, 'prediction': pred})\n",
    "\n",
    "    eval_df = pd.DataFrame(results)\n",
    "    scores = evaluate_metrics(eval_df, pred_col='prediction', ref_col='reference')\n",
    "    all_scores.append(scores)"
   ]
  },
  {
   "cell_type": "code",
   "execution_count": null,
   "id": "643069de",
   "metadata": {},
   "outputs": [
    {
     "name": "stdout",
     "output_type": "stream",
     "text": [
      "=== 10次抽样平均 ===\n",
      "BLEU: 0.0452\n",
      "METEOR: 0.2159\n",
      "ROUGE (F):\n",
      "  ROUGE1: 0.2739\n",
      "  ROUGE2: 0.0679\n",
      "  ROUGEL: 0.2166\n"
     ]
    }
   ],
   "source": [
    "# 计算平均分\n",
    "bleu_avg = sum(s['bleu'] for s in all_scores) / n_sample\n",
    "meteor_avg = sum(s['meteor'] for s in all_scores) / n_sample\n",
    "rouge_avg = {}\n",
    "for rouge_type in [\"rouge1\", \"rouge2\", \"rougeL\"]:\n",
    "    rouge_avg[rouge_type] = sum(s['rouge'][rouge_type] for s in all_scores) / n_sample\n",
    "\n",
    "print(\"=== 10次抽样平均 ===\")\n",
    "print(\"BLEU: {:.4f}\".format(bleu_avg))\n",
    "print(\"METEOR: {:.4f}\".format(meteor_avg))\n",
    "print(\"ROUGE (F):\")\n",
    "for rouge_type in [\"rouge1\", \"rouge2\", \"rougeL\"]:\n",
    "    print(\"  {}: {:.4f}\".format(rouge_type.upper(), rouge_avg[rouge_type]))"
   ]
  },
  {
   "cell_type": "markdown",
   "id": "b0a796d6",
   "metadata": {},
   "source": [
    "## Abstracts as references"
   ]
  },
  {
   "cell_type": "code",
   "execution_count": 5,
   "id": "3d1106a0",
   "metadata": {},
   "outputs": [
    {
     "name": "stderr",
     "output_type": "stream",
     "text": [
      "[nltk_data] Downloading package wordnet to /home/zqlyu2/nltk_data...\n",
      "[nltk_data]   Package wordnet is already up-to-date!\n",
      "[nltk_data] Downloading package punkt_tab to /home/zqlyu2/nltk_data...\n",
      "[nltk_data]   Package punkt_tab is already up-to-date!\n",
      "[nltk_data] Downloading package omw-1.4 to /home/zqlyu2/nltk_data...\n",
      "[nltk_data]   Package omw-1.4 is already up-to-date!\n"
     ]
    },
    {
     "data": {
      "text/plain": [
       "{'bleu': 0.0015324374033827534,\n",
       " 'rouge': {'rouge1': np.float64(0.178899423182238),\n",
       "  'rouge2': np.float64(0.0687364958628883),\n",
       "  'rougeL': np.float64(0.13063263718495793)},\n",
       " 'meteor': np.float64(0.0955440723649232)}"
      ]
     },
     "execution_count": 5,
     "metadata": {},
     "output_type": "execute_result"
    }
   ],
   "source": [
    "evaluate_metrics(df, pred_col='gemma3', ref_col='abstract')"
   ]
  },
  {
   "cell_type": "code",
   "execution_count": 6,
   "id": "c62d6219",
   "metadata": {},
   "outputs": [
    {
     "name": "stderr",
     "output_type": "stream",
     "text": [
      "[nltk_data] Downloading package wordnet to /home/zqlyu2/nltk_data...\n",
      "[nltk_data]   Package wordnet is already up-to-date!\n",
      "[nltk_data] Downloading package punkt_tab to /home/zqlyu2/nltk_data...\n",
      "[nltk_data]   Package punkt_tab is already up-to-date!\n",
      "[nltk_data] Downloading package omw-1.4 to /home/zqlyu2/nltk_data...\n",
      "[nltk_data]   Package omw-1.4 is already up-to-date!\n"
     ]
    },
    {
     "data": {
      "text/plain": [
       "{'bleu': 0.0012659313729019544,\n",
       " 'rouge': {'rouge1': np.float64(0.17266882832370087),\n",
       "  'rouge2': np.float64(0.05188857170643919),\n",
       "  'rougeL': np.float64(0.11733435621163343)},\n",
       " 'meteor': np.float64(0.08687230057524462)}"
      ]
     },
     "execution_count": 6,
     "metadata": {},
     "output_type": "execute_result"
    }
   ],
   "source": [
    "evaluate_metrics(df, pred_col='llama4', ref_col='abstract')"
   ]
  },
  {
   "cell_type": "code",
   "execution_count": 12,
   "id": "73f33d35",
   "metadata": {},
   "outputs": [
    {
     "name": "stderr",
     "output_type": "stream",
     "text": [
      "[nltk_data] Downloading package wordnet to /home/zqlyu2/nltk_data...\n",
      "[nltk_data]   Package wordnet is already up-to-date!\n",
      "[nltk_data] Downloading package punkt_tab to /home/zqlyu2/nltk_data...\n",
      "[nltk_data]   Package punkt_tab is already up-to-date!\n",
      "[nltk_data] Downloading package omw-1.4 to /home/zqlyu2/nltk_data...\n",
      "[nltk_data]   Package omw-1.4 is already up-to-date!\n"
     ]
    },
    {
     "data": {
      "text/plain": [
       "{'bleu': 0.03319207318259169,\n",
       " 'meteor': np.float64(0.19749892250719794),\n",
       " 'rouge': {'rouge1': np.float64(0.3397127836850643),\n",
       "  'rouge2': np.float64(0.1271640602084576),\n",
       "  'rougeL': np.float64(0.20906792437643631)}}"
      ]
     },
     "execution_count": 12,
     "metadata": {},
     "output_type": "execute_result"
    }
   ],
   "source": [
    "evaluate_metrics(df, pred_col='qwen3', ref_col='abstract')"
   ]
  },
  {
   "cell_type": "code",
   "execution_count": 15,
   "id": "6fc89e64",
   "metadata": {},
   "outputs": [
    {
     "name": "stderr",
     "output_type": "stream",
     "text": [
      "[nltk_data] Downloading package wordnet to /home/zqlyu2/nltk_data...\n",
      "[nltk_data]   Package wordnet is already up-to-date!\n",
      "[nltk_data] Downloading package punkt_tab to /home/zqlyu2/nltk_data...\n",
      "[nltk_data]   Package punkt_tab is already up-to-date!\n",
      "[nltk_data] Downloading package omw-1.4 to /home/zqlyu2/nltk_data...\n",
      "[nltk_data]   Package omw-1.4 is already up-to-date!\n"
     ]
    },
    {
     "data": {
      "text/plain": [
       "{'bleu': 0.00014032267591655747,\n",
       " 'meteor': np.float64(0.06377415902193286),\n",
       " 'rouge': {'rouge1': np.float64(0.1408848000436993),\n",
       "  'rouge2': np.float64(0.03825775412279675),\n",
       "  'rougeL': np.float64(0.10050406185966701)}}"
      ]
     },
     "execution_count": 15,
     "metadata": {},
     "output_type": "execute_result"
    }
   ],
   "source": [
    "evaluate_metrics(df, pred_col='annotation', ref_col='abstract')"
   ]
  },
  {
   "cell_type": "markdown",
   "id": "9ee60430",
   "metadata": {},
   "source": [
    "# Simlarity-based"
   ]
  },
  {
   "cell_type": "markdown",
   "id": "604b8949",
   "metadata": {},
   "source": [
    "## BERTScore"
   ]
  },
  {
   "cell_type": "code",
   "execution_count": 7,
   "id": "bd5a5835",
   "metadata": {},
   "outputs": [],
   "source": [
    "from bert_score import score\n",
    "\n",
    "def evaluate_bertscore(df, pred_col='prediction', ref_col='reference'):\n",
    "    preds = df[pred_col].tolist()\n",
    "    refs = df[ref_col].tolist()\n",
    "\n",
    "    P, R, F1 = score(preds, refs, lang='en', \n",
    "                     use_fast_tokenizer=True,\n",
    "                     batch_size=32,\n",
    "                     verbose=True)  # 如果是中文，改为 lang='zh'\n",
    "    print(f\"BERTScore F1: {F1.mean().item():.4f}\")\n",
    "    return {\n",
    "        \"BERTScore_P\": P.mean().item(),\n",
    "        \"BERTScore_R\": R.mean().item(),\n",
    "        \"BERTScore_F1\": F1.mean().item()\n",
    "    }\n"
   ]
  },
  {
   "cell_type": "markdown",
   "id": "869dcd26",
   "metadata": {},
   "source": [
    "### Human-wrtten annotations as references"
   ]
  },
  {
   "cell_type": "markdown",
   "id": "39de17ed",
   "metadata": {},
   "source": [
    "#### LLMs' performance"
   ]
  },
  {
   "cell_type": "code",
   "execution_count": 8,
   "id": "4f2a4590",
   "metadata": {},
   "outputs": [
    {
     "name": "stderr",
     "output_type": "stream",
     "text": [
      "Some weights of RobertaModel were not initialized from the model checkpoint at roberta-large and are newly initialized: ['pooler.dense.bias', 'pooler.dense.weight']\n",
      "You should probably TRAIN this model on a down-stream task to be able to use it for predictions and inference.\n"
     ]
    },
    {
     "name": "stdout",
     "output_type": "stream",
     "text": [
      "calculating scores...\n",
      "computing bert embedding.\n"
     ]
    },
    {
     "data": {
      "application/vnd.jupyter.widget-view+json": {
       "model_id": "12c3a678d5fc4c1b9e270246d1ac1619",
       "version_major": 2,
       "version_minor": 0
      },
      "text/plain": [
       "  0%|          | 0/2226 [00:00<?, ?it/s]"
      ]
     },
     "metadata": {},
     "output_type": "display_data"
    },
    {
     "name": "stdout",
     "output_type": "stream",
     "text": [
      "computing greedy matching.\n"
     ]
    },
    {
     "data": {
      "application/vnd.jupyter.widget-view+json": {
       "model_id": "696f0ee9c9d94392969e4d5a91249dd1",
       "version_major": 2,
       "version_minor": 0
      },
      "text/plain": [
       "  0%|          | 0/1114 [00:00<?, ?it/s]"
      ]
     },
     "metadata": {},
     "output_type": "display_data"
    },
    {
     "name": "stdout",
     "output_type": "stream",
     "text": [
      "done in 113.08 seconds, 315.00 sentences/sec\n",
      "BERTScore F1: 0.8798\n"
     ]
    },
    {
     "data": {
      "text/plain": [
       "{'BERTScore_P': 0.8760881423950195,\n",
       " 'BERTScore_R': 0.8838481307029724,\n",
       " 'BERTScore_F1': 0.879772961139679}"
      ]
     },
     "execution_count": 8,
     "metadata": {},
     "output_type": "execute_result"
    }
   ],
   "source": [
    "evaluate_bertscore(df, pred_col='gemma3', ref_col='annotation')"
   ]
  },
  {
   "cell_type": "code",
   "execution_count": 9,
   "id": "3fd7d7af",
   "metadata": {},
   "outputs": [
    {
     "name": "stderr",
     "output_type": "stream",
     "text": [
      "Some weights of RobertaModel were not initialized from the model checkpoint at roberta-large and are newly initialized: ['pooler.dense.bias', 'pooler.dense.weight']\n",
      "You should probably TRAIN this model on a down-stream task to be able to use it for predictions and inference.\n"
     ]
    },
    {
     "name": "stdout",
     "output_type": "stream",
     "text": [
      "calculating scores...\n",
      "computing bert embedding.\n"
     ]
    },
    {
     "data": {
      "application/vnd.jupyter.widget-view+json": {
       "model_id": "7f67e102abcb48b0a94647a399f68c73",
       "version_major": 2,
       "version_minor": 0
      },
      "text/plain": [
       "  0%|          | 0/2226 [00:00<?, ?it/s]"
      ]
     },
     "metadata": {},
     "output_type": "display_data"
    },
    {
     "name": "stdout",
     "output_type": "stream",
     "text": [
      "computing greedy matching.\n"
     ]
    },
    {
     "data": {
      "application/vnd.jupyter.widget-view+json": {
       "model_id": "13c7ab642c9a49368a13a6c564225bc0",
       "version_major": 2,
       "version_minor": 0
      },
      "text/plain": [
       "  0%|          | 0/1114 [00:00<?, ?it/s]"
      ]
     },
     "metadata": {},
     "output_type": "display_data"
    },
    {
     "name": "stdout",
     "output_type": "stream",
     "text": [
      "done in 116.39 seconds, 306.04 sentences/sec\n",
      "BERTScore F1: 0.8768\n"
     ]
    },
    {
     "data": {
      "text/plain": [
       "{'BERTScore_P': 0.874789297580719,\n",
       " 'BERTScore_R': 0.8792647123336792,\n",
       " 'BERTScore_F1': 0.8768314719200134}"
      ]
     },
     "execution_count": 9,
     "metadata": {},
     "output_type": "execute_result"
    }
   ],
   "source": [
    "evaluate_bertscore(df, pred_col='llama4', ref_col='annotation')"
   ]
  },
  {
   "cell_type": "code",
   "execution_count": 17,
   "id": "68df66e8",
   "metadata": {},
   "outputs": [
    {
     "name": "stderr",
     "output_type": "stream",
     "text": [
      "Some weights of RobertaModel were not initialized from the model checkpoint at roberta-large and are newly initialized: ['pooler.dense.bias', 'pooler.dense.weight']\n",
      "You should probably TRAIN this model on a down-stream task to be able to use it for predictions and inference.\n"
     ]
    },
    {
     "name": "stdout",
     "output_type": "stream",
     "text": [
      "calculating scores...\n",
      "computing bert embedding.\n"
     ]
    },
    {
     "data": {
      "application/vnd.jupyter.widget-view+json": {
       "model_id": "c02f85fdac874a13bb1b5d4e86f7230a",
       "version_major": 2,
       "version_minor": 0
      },
      "text/plain": [
       "  0%|          | 0/1113 [00:00<?, ?it/s]"
      ]
     },
     "metadata": {},
     "output_type": "display_data"
    },
    {
     "name": "stdout",
     "output_type": "stream",
     "text": [
      "computing greedy matching.\n"
     ]
    },
    {
     "data": {
      "application/vnd.jupyter.widget-view+json": {
       "model_id": "e18cc9265aaa447c8f7ca0c3178349e0",
       "version_major": 2,
       "version_minor": 0
      },
      "text/plain": [
       "  0%|          | 0/557 [00:00<?, ?it/s]"
      ]
     },
     "metadata": {},
     "output_type": "display_data"
    },
    {
     "name": "stdout",
     "output_type": "stream",
     "text": [
      "done in 564.50 seconds, 63.10 sentences/sec\n",
      "BERTScore F1: 0.8646\n"
     ]
    },
    {
     "data": {
      "text/plain": [
       "{'BERTScore_P': 0.8417383432388306,\n",
       " 'BERTScore_R': 0.8892121315002441,\n",
       " 'BERTScore_F1': 0.8646422624588013}"
      ]
     },
     "execution_count": 17,
     "metadata": {},
     "output_type": "execute_result"
    }
   ],
   "source": [
    "evaluate_bertscore(df, pred_col='qwen3', ref_col='annotation')"
   ]
  },
  {
   "cell_type": "markdown",
   "id": "82e2d975",
   "metadata": {},
   "source": [
    "#### Multi-annotated papers as a human-evaluation baseline"
   ]
  },
  {
   "cell_type": "code",
   "execution_count": 30,
   "id": "fff830e7",
   "metadata": {},
   "outputs": [
    {
     "name": "stderr",
     "output_type": "stream",
     "text": [
      "  0%|                                                                                    | 0/10 [00:00<?, ?it/s]Some weights of RobertaModel were not initialized from the model checkpoint at roberta-large and are newly initialized: ['pooler.dense.bias', 'pooler.dense.weight']\n",
      "You should probably TRAIN this model on a down-stream task to be able to use it for predictions and inference.\n"
     ]
    },
    {
     "name": "stdout",
     "output_type": "stream",
     "text": [
      "calculating scores...\n",
      "computing bert embedding.\n"
     ]
    },
    {
     "data": {
      "application/vnd.jupyter.widget-view+json": {
       "model_id": "ca48708fbdf74f9189b342e2672c3831",
       "version_major": 2,
       "version_minor": 0
      },
      "text/plain": [
       "  0%|          | 0/161 [00:00<?, ?it/s]"
      ]
     },
     "metadata": {},
     "output_type": "display_data"
    },
    {
     "name": "stdout",
     "output_type": "stream",
     "text": [
      "computing greedy matching.\n"
     ]
    },
    {
     "data": {
      "application/vnd.jupyter.widget-view+json": {
       "model_id": "91929146b04f4492ad37cb3724ba49c4",
       "version_major": 2,
       "version_minor": 0
      },
      "text/plain": [
       "  0%|          | 0/99 [00:00<?, ?it/s]"
      ]
     },
     "metadata": {},
     "output_type": "display_data"
    },
    {
     "name": "stderr",
     "output_type": "stream",
     "text": [
      " 10%|███████▌                                                                    | 1/10 [00:38<05:50, 39.00s/it]"
     ]
    },
    {
     "name": "stdout",
     "output_type": "stream",
     "text": [
      "done in 37.19 seconds, 168.93 sentences/sec\n",
      "BERTScore F1: 0.8811\n"
     ]
    },
    {
     "name": "stderr",
     "output_type": "stream",
     "text": [
      "Some weights of RobertaModel were not initialized from the model checkpoint at roberta-large and are newly initialized: ['pooler.dense.bias', 'pooler.dense.weight']\n",
      "You should probably TRAIN this model on a down-stream task to be able to use it for predictions and inference.\n"
     ]
    },
    {
     "name": "stdout",
     "output_type": "stream",
     "text": [
      "calculating scores...\n",
      "computing bert embedding.\n"
     ]
    },
    {
     "data": {
      "application/vnd.jupyter.widget-view+json": {
       "model_id": "2c48c755134749c18147a4f25ad4a336",
       "version_major": 2,
       "version_minor": 0
      },
      "text/plain": [
       "  0%|          | 0/161 [00:00<?, ?it/s]"
      ]
     },
     "metadata": {},
     "output_type": "display_data"
    },
    {
     "name": "stdout",
     "output_type": "stream",
     "text": [
      "computing greedy matching.\n"
     ]
    },
    {
     "data": {
      "application/vnd.jupyter.widget-view+json": {
       "model_id": "459bed1d8b1e4054828c5c916057f4a6",
       "version_major": 2,
       "version_minor": 0
      },
      "text/plain": [
       "  0%|          | 0/99 [00:00<?, ?it/s]"
      ]
     },
     "metadata": {},
     "output_type": "display_data"
    },
    {
     "name": "stderr",
     "output_type": "stream",
     "text": [
      " 20%|███████████████▏                                                            | 2/10 [01:16<05:04, 38.12s/it]"
     ]
    },
    {
     "name": "stdout",
     "output_type": "stream",
     "text": [
      "done in 37.41 seconds, 167.90 sentences/sec\n",
      "BERTScore F1: 0.8812\n"
     ]
    },
    {
     "name": "stderr",
     "output_type": "stream",
     "text": [
      "Some weights of RobertaModel were not initialized from the model checkpoint at roberta-large and are newly initialized: ['pooler.dense.bias', 'pooler.dense.weight']\n",
      "You should probably TRAIN this model on a down-stream task to be able to use it for predictions and inference.\n"
     ]
    },
    {
     "name": "stdout",
     "output_type": "stream",
     "text": [
      "calculating scores...\n",
      "computing bert embedding.\n"
     ]
    },
    {
     "data": {
      "application/vnd.jupyter.widget-view+json": {
       "model_id": "a5772820aac5444f94d375533bff96ec",
       "version_major": 2,
       "version_minor": 0
      },
      "text/plain": [
       "  0%|          | 0/161 [00:00<?, ?it/s]"
      ]
     },
     "metadata": {},
     "output_type": "display_data"
    },
    {
     "name": "stdout",
     "output_type": "stream",
     "text": [
      "computing greedy matching.\n"
     ]
    },
    {
     "data": {
      "application/vnd.jupyter.widget-view+json": {
       "model_id": "d1e72dc098eb4cf0a1e194f6f728c83d",
       "version_major": 2,
       "version_minor": 0
      },
      "text/plain": [
       "  0%|          | 0/99 [00:00<?, ?it/s]"
      ]
     },
     "metadata": {},
     "output_type": "display_data"
    },
    {
     "name": "stderr",
     "output_type": "stream",
     "text": [
      " 30%|██████████████████████▊                                                     | 3/10 [01:55<04:28, 38.29s/it]"
     ]
    },
    {
     "name": "stdout",
     "output_type": "stream",
     "text": [
      "done in 37.74 seconds, 166.45 sentences/sec\n",
      "BERTScore F1: 0.8812\n"
     ]
    },
    {
     "name": "stderr",
     "output_type": "stream",
     "text": [
      "Some weights of RobertaModel were not initialized from the model checkpoint at roberta-large and are newly initialized: ['pooler.dense.bias', 'pooler.dense.weight']\n",
      "You should probably TRAIN this model on a down-stream task to be able to use it for predictions and inference.\n"
     ]
    },
    {
     "name": "stdout",
     "output_type": "stream",
     "text": [
      "calculating scores...\n",
      "computing bert embedding.\n"
     ]
    },
    {
     "data": {
      "application/vnd.jupyter.widget-view+json": {
       "model_id": "7ed4c9d63f7c4ffcbe2abed6a2189858",
       "version_major": 2,
       "version_minor": 0
      },
      "text/plain": [
       "  0%|          | 0/161 [00:00<?, ?it/s]"
      ]
     },
     "metadata": {},
     "output_type": "display_data"
    },
    {
     "name": "stdout",
     "output_type": "stream",
     "text": [
      "computing greedy matching.\n"
     ]
    },
    {
     "data": {
      "application/vnd.jupyter.widget-view+json": {
       "model_id": "1a90079173a34652bd983dc4b3ab6a3b",
       "version_major": 2,
       "version_minor": 0
      },
      "text/plain": [
       "  0%|          | 0/99 [00:00<?, ?it/s]"
      ]
     },
     "metadata": {},
     "output_type": "display_data"
    },
    {
     "name": "stderr",
     "output_type": "stream",
     "text": [
      " 40%|██████████████████████████████▍                                             | 4/10 [02:33<03:50, 38.42s/it]"
     ]
    },
    {
     "name": "stdout",
     "output_type": "stream",
     "text": [
      "done in 37.65 seconds, 166.86 sentences/sec\n",
      "BERTScore F1: 0.8813\n"
     ]
    },
    {
     "name": "stderr",
     "output_type": "stream",
     "text": [
      "Some weights of RobertaModel were not initialized from the model checkpoint at roberta-large and are newly initialized: ['pooler.dense.bias', 'pooler.dense.weight']\n",
      "You should probably TRAIN this model on a down-stream task to be able to use it for predictions and inference.\n"
     ]
    },
    {
     "name": "stdout",
     "output_type": "stream",
     "text": [
      "calculating scores...\n",
      "computing bert embedding.\n"
     ]
    },
    {
     "data": {
      "application/vnd.jupyter.widget-view+json": {
       "model_id": "6a5aca048be64898a71e98e08af6116b",
       "version_major": 2,
       "version_minor": 0
      },
      "text/plain": [
       "  0%|          | 0/161 [00:00<?, ?it/s]"
      ]
     },
     "metadata": {},
     "output_type": "display_data"
    },
    {
     "name": "stdout",
     "output_type": "stream",
     "text": [
      "computing greedy matching.\n"
     ]
    },
    {
     "data": {
      "application/vnd.jupyter.widget-view+json": {
       "model_id": "31a9bb69300e469d9143db66ac4e0d08",
       "version_major": 2,
       "version_minor": 0
      },
      "text/plain": [
       "  0%|          | 0/99 [00:00<?, ?it/s]"
      ]
     },
     "metadata": {},
     "output_type": "display_data"
    },
    {
     "name": "stderr",
     "output_type": "stream",
     "text": [
      " 50%|██████████████████████████████████████                                      | 5/10 [03:12<03:12, 38.51s/it]"
     ]
    },
    {
     "name": "stdout",
     "output_type": "stream",
     "text": [
      "done in 37.83 seconds, 166.05 sentences/sec\n",
      "BERTScore F1: 0.8813\n"
     ]
    },
    {
     "name": "stderr",
     "output_type": "stream",
     "text": [
      "Some weights of RobertaModel were not initialized from the model checkpoint at roberta-large and are newly initialized: ['pooler.dense.bias', 'pooler.dense.weight']\n",
      "You should probably TRAIN this model on a down-stream task to be able to use it for predictions and inference.\n"
     ]
    },
    {
     "name": "stdout",
     "output_type": "stream",
     "text": [
      "calculating scores...\n",
      "computing bert embedding.\n"
     ]
    },
    {
     "data": {
      "application/vnd.jupyter.widget-view+json": {
       "model_id": "f33e34168bdf48c98655cbaa80117f0e",
       "version_major": 2,
       "version_minor": 0
      },
      "text/plain": [
       "  0%|          | 0/161 [00:00<?, ?it/s]"
      ]
     },
     "metadata": {},
     "output_type": "display_data"
    },
    {
     "name": "stdout",
     "output_type": "stream",
     "text": [
      "computing greedy matching.\n"
     ]
    },
    {
     "data": {
      "application/vnd.jupyter.widget-view+json": {
       "model_id": "161bc74ea8b94c1ab8649478223452b7",
       "version_major": 2,
       "version_minor": 0
      },
      "text/plain": [
       "  0%|          | 0/99 [00:00<?, ?it/s]"
      ]
     },
     "metadata": {},
     "output_type": "display_data"
    },
    {
     "name": "stderr",
     "output_type": "stream",
     "text": [
      " 60%|█████████████████████████████████████████████▌                              | 6/10 [03:50<02:33, 38.31s/it]"
     ]
    },
    {
     "name": "stdout",
     "output_type": "stream",
     "text": [
      "done in 37.71 seconds, 166.58 sentences/sec\n",
      "BERTScore F1: 0.8811\n"
     ]
    },
    {
     "name": "stderr",
     "output_type": "stream",
     "text": [
      "Some weights of RobertaModel were not initialized from the model checkpoint at roberta-large and are newly initialized: ['pooler.dense.bias', 'pooler.dense.weight']\n",
      "You should probably TRAIN this model on a down-stream task to be able to use it for predictions and inference.\n"
     ]
    },
    {
     "name": "stdout",
     "output_type": "stream",
     "text": [
      "calculating scores...\n",
      "computing bert embedding.\n"
     ]
    },
    {
     "data": {
      "application/vnd.jupyter.widget-view+json": {
       "model_id": "2c98cd44d1a643d7bda38ea0ca71de87",
       "version_major": 2,
       "version_minor": 0
      },
      "text/plain": [
       "  0%|          | 0/161 [00:00<?, ?it/s]"
      ]
     },
     "metadata": {},
     "output_type": "display_data"
    },
    {
     "name": "stdout",
     "output_type": "stream",
     "text": [
      "computing greedy matching.\n"
     ]
    },
    {
     "data": {
      "application/vnd.jupyter.widget-view+json": {
       "model_id": "3c6f66f705c641cbb8054a2ae29b943c",
       "version_major": 2,
       "version_minor": 0
      },
      "text/plain": [
       "  0%|          | 0/99 [00:00<?, ?it/s]"
      ]
     },
     "metadata": {},
     "output_type": "display_data"
    },
    {
     "name": "stderr",
     "output_type": "stream",
     "text": [
      " 70%|█████████████████████████████████████████████████████▏                      | 7/10 [04:28<01:55, 38.43s/it]"
     ]
    },
    {
     "name": "stdout",
     "output_type": "stream",
     "text": [
      "done in 37.82 seconds, 166.09 sentences/sec\n",
      "BERTScore F1: 0.8813\n"
     ]
    },
    {
     "name": "stderr",
     "output_type": "stream",
     "text": [
      "Some weights of RobertaModel were not initialized from the model checkpoint at roberta-large and are newly initialized: ['pooler.dense.bias', 'pooler.dense.weight']\n",
      "You should probably TRAIN this model on a down-stream task to be able to use it for predictions and inference.\n"
     ]
    },
    {
     "name": "stdout",
     "output_type": "stream",
     "text": [
      "calculating scores...\n",
      "computing bert embedding.\n"
     ]
    },
    {
     "data": {
      "application/vnd.jupyter.widget-view+json": {
       "model_id": "dfe77b56e4a54358b9cf37bb8ee328a9",
       "version_major": 2,
       "version_minor": 0
      },
      "text/plain": [
       "  0%|          | 0/161 [00:00<?, ?it/s]"
      ]
     },
     "metadata": {},
     "output_type": "display_data"
    },
    {
     "name": "stdout",
     "output_type": "stream",
     "text": [
      "computing greedy matching.\n"
     ]
    },
    {
     "data": {
      "application/vnd.jupyter.widget-view+json": {
       "model_id": "805759f302ac484b8a083df4baf1eddf",
       "version_major": 2,
       "version_minor": 0
      },
      "text/plain": [
       "  0%|          | 0/99 [00:00<?, ?it/s]"
      ]
     },
     "metadata": {},
     "output_type": "display_data"
    },
    {
     "name": "stderr",
     "output_type": "stream",
     "text": [
      " 80%|████████████████████████████████████████████████████████████▊               | 8/10 [05:07<01:16, 38.48s/it]"
     ]
    },
    {
     "name": "stdout",
     "output_type": "stream",
     "text": [
      "done in 37.64 seconds, 166.84 sentences/sec\n",
      "BERTScore F1: 0.8814\n"
     ]
    },
    {
     "name": "stderr",
     "output_type": "stream",
     "text": [
      "Some weights of RobertaModel were not initialized from the model checkpoint at roberta-large and are newly initialized: ['pooler.dense.bias', 'pooler.dense.weight']\n",
      "You should probably TRAIN this model on a down-stream task to be able to use it for predictions and inference.\n"
     ]
    },
    {
     "name": "stdout",
     "output_type": "stream",
     "text": [
      "calculating scores...\n",
      "computing bert embedding.\n"
     ]
    },
    {
     "data": {
      "application/vnd.jupyter.widget-view+json": {
       "model_id": "f267f3ad097e41518342f1a8c35cbfb7",
       "version_major": 2,
       "version_minor": 0
      },
      "text/plain": [
       "  0%|          | 0/161 [00:00<?, ?it/s]"
      ]
     },
     "metadata": {},
     "output_type": "display_data"
    },
    {
     "name": "stdout",
     "output_type": "stream",
     "text": [
      "computing greedy matching.\n"
     ]
    },
    {
     "data": {
      "application/vnd.jupyter.widget-view+json": {
       "model_id": "5c6c72d5777c4f84b44d656c882458b5",
       "version_major": 2,
       "version_minor": 0
      },
      "text/plain": [
       "  0%|          | 0/99 [00:00<?, ?it/s]"
      ]
     },
     "metadata": {},
     "output_type": "display_data"
    },
    {
     "name": "stderr",
     "output_type": "stream",
     "text": [
      " 90%|████████████████████████████████████████████████████████████████████▍       | 9/10 [05:45<00:38, 38.45s/it]"
     ]
    },
    {
     "name": "stdout",
     "output_type": "stream",
     "text": [
      "done in 37.64 seconds, 166.86 sentences/sec\n",
      "BERTScore F1: 0.8811\n"
     ]
    },
    {
     "name": "stderr",
     "output_type": "stream",
     "text": [
      "Some weights of RobertaModel were not initialized from the model checkpoint at roberta-large and are newly initialized: ['pooler.dense.bias', 'pooler.dense.weight']\n",
      "You should probably TRAIN this model on a down-stream task to be able to use it for predictions and inference.\n"
     ]
    },
    {
     "name": "stdout",
     "output_type": "stream",
     "text": [
      "calculating scores...\n",
      "computing bert embedding.\n"
     ]
    },
    {
     "data": {
      "application/vnd.jupyter.widget-view+json": {
       "model_id": "e50cbd3639e94398a3f1ee040592f84a",
       "version_major": 2,
       "version_minor": 0
      },
      "text/plain": [
       "  0%|          | 0/161 [00:00<?, ?it/s]"
      ]
     },
     "metadata": {},
     "output_type": "display_data"
    },
    {
     "name": "stdout",
     "output_type": "stream",
     "text": [
      "computing greedy matching.\n"
     ]
    },
    {
     "data": {
      "application/vnd.jupyter.widget-view+json": {
       "model_id": "64b81b58e5734f53b123e32143e67880",
       "version_major": 2,
       "version_minor": 0
      },
      "text/plain": [
       "  0%|          | 0/99 [00:00<?, ?it/s]"
      ]
     },
     "metadata": {},
     "output_type": "display_data"
    },
    {
     "name": "stderr",
     "output_type": "stream",
     "text": [
      "100%|███████████████████████████████████████████████████████████████████████████| 10/10 [06:24<00:00, 38.49s/it]"
     ]
    },
    {
     "name": "stdout",
     "output_type": "stream",
     "text": [
      "done in 37.97 seconds, 165.43 sentences/sec\n",
      "BERTScore F1: 0.8813\n",
      "=== 10次抽样平均 ===\n",
      "BERTScore: 0.8812\n"
     ]
    },
    {
     "name": "stderr",
     "output_type": "stream",
     "text": [
      "\n"
     ]
    }
   ],
   "source": [
    "import random\n",
    "from tqdm import tqdm\n",
    "\n",
    "all_scores = []\n",
    "n_sample = 10  # 抽样次数\n",
    "\n",
    "for _ in tqdm(range(n_sample)):\n",
    "    grouped = multi_annotated.groupby('paper_id')\n",
    "    results = []\n",
    "    for paper_id, group in grouped:\n",
    "        annotations = group['annotation'].tolist()\n",
    "        if len(annotations) < 2:\n",
    "            continue\n",
    "        ref = random.choice(annotations)\n",
    "        preds = [a for a in annotations if a != ref]\n",
    "        for pred in preds:\n",
    "            results.append({'paper_id': paper_id, 'reference': ref, 'prediction': pred})\n",
    "\n",
    "    eval_df = pd.DataFrame(results)\n",
    "    scores = evaluate_bertscore(eval_df, pred_col='prediction', ref_col='reference')\n",
    "    all_scores.append(scores)\n",
    "\n",
    "# 计算平均分\n",
    "bertscore_avg = sum(s['BERTScore_F1'] for s in all_scores) / n_sample\n",
    "\n",
    "print(\"=== 10次抽样平均 ===\")\n",
    "print(\"BERTScore: {:.4f}\".format(bertscore_avg))"
   ]
  },
  {
   "cell_type": "markdown",
   "id": "e9a9edfd",
   "metadata": {},
   "source": [
    "### Abstracts as references"
   ]
  },
  {
   "cell_type": "code",
   "execution_count": 10,
   "id": "479664e2",
   "metadata": {},
   "outputs": [
    {
     "name": "stderr",
     "output_type": "stream",
     "text": [
      "Some weights of RobertaModel were not initialized from the model checkpoint at roberta-large and are newly initialized: ['pooler.dense.bias', 'pooler.dense.weight']\n",
      "You should probably TRAIN this model on a down-stream task to be able to use it for predictions and inference.\n"
     ]
    },
    {
     "name": "stdout",
     "output_type": "stream",
     "text": [
      "calculating scores...\n",
      "computing bert embedding.\n"
     ]
    },
    {
     "data": {
      "application/vnd.jupyter.widget-view+json": {
       "model_id": "05ce4557463a41768eccdc81bbf5b7c3",
       "version_major": 2,
       "version_minor": 0
      },
      "text/plain": [
       "  0%|          | 0/2028 [00:00<?, ?it/s]"
      ]
     },
     "metadata": {},
     "output_type": "display_data"
    },
    {
     "name": "stdout",
     "output_type": "stream",
     "text": [
      "computing greedy matching.\n"
     ]
    },
    {
     "data": {
      "application/vnd.jupyter.widget-view+json": {
       "model_id": "793bcf5afdb74f6899e3a3591214b5a1",
       "version_major": 2,
       "version_minor": 0
      },
      "text/plain": [
       "  0%|          | 0/1114 [00:00<?, ?it/s]"
      ]
     },
     "metadata": {},
     "output_type": "display_data"
    },
    {
     "name": "stdout",
     "output_type": "stream",
     "text": [
      "done in 434.40 seconds, 82.00 sentences/sec\n",
      "BERTScore F1: 0.8607\n"
     ]
    },
    {
     "data": {
      "text/plain": [
       "{'BERTScore_P': 0.8978897333145142,\n",
       " 'BERTScore_R': 0.8267492055892944,\n",
       " 'BERTScore_F1': 0.860707700252533}"
      ]
     },
     "execution_count": 10,
     "metadata": {},
     "output_type": "execute_result"
    }
   ],
   "source": [
    "evaluate_bertscore(df, pred_col='gemma3', ref_col='abstract')"
   ]
  },
  {
   "cell_type": "code",
   "execution_count": 11,
   "id": "80e61a03",
   "metadata": {},
   "outputs": [
    {
     "name": "stderr",
     "output_type": "stream",
     "text": [
      "Some weights of RobertaModel were not initialized from the model checkpoint at roberta-large and are newly initialized: ['pooler.dense.bias', 'pooler.dense.weight']\n",
      "You should probably TRAIN this model on a down-stream task to be able to use it for predictions and inference.\n"
     ]
    },
    {
     "name": "stdout",
     "output_type": "stream",
     "text": [
      "calculating scores...\n",
      "computing bert embedding.\n"
     ]
    },
    {
     "data": {
      "application/vnd.jupyter.widget-view+json": {
       "model_id": "174acdc986cc450b90c85875be10c0ef",
       "version_major": 2,
       "version_minor": 0
      },
      "text/plain": [
       "  0%|          | 0/2028 [00:00<?, ?it/s]"
      ]
     },
     "metadata": {},
     "output_type": "display_data"
    },
    {
     "name": "stdout",
     "output_type": "stream",
     "text": [
      "computing greedy matching.\n"
     ]
    },
    {
     "data": {
      "application/vnd.jupyter.widget-view+json": {
       "model_id": "80ef2263d61148ab8f10a57a2d53ef6f",
       "version_major": 2,
       "version_minor": 0
      },
      "text/plain": [
       "  0%|          | 0/1114 [00:00<?, ?it/s]"
      ]
     },
     "metadata": {},
     "output_type": "display_data"
    },
    {
     "name": "stdout",
     "output_type": "stream",
     "text": [
      "done in 518.96 seconds, 68.64 sentences/sec\n",
      "BERTScore F1: 0.8527\n"
     ]
    },
    {
     "data": {
      "text/plain": [
       "{'BERTScore_P': 0.8875752091407776,\n",
       " 'BERTScore_R': 0.82086181640625,\n",
       " 'BERTScore_F1': 0.8527042269706726}"
      ]
     },
     "execution_count": 11,
     "metadata": {},
     "output_type": "execute_result"
    }
   ],
   "source": [
    "evaluate_bertscore(df, pred_col='llama4', ref_col='abstract')"
   ]
  },
  {
   "cell_type": "code",
   "execution_count": 8,
   "id": "15a81c7a",
   "metadata": {},
   "outputs": [
    {
     "name": "stderr",
     "output_type": "stream",
     "text": [
      "Some weights of RobertaModel were not initialized from the model checkpoint at roberta-large and are newly initialized: ['pooler.dense.bias', 'pooler.dense.weight']\n",
      "You should probably TRAIN this model on a down-stream task to be able to use it for predictions and inference.\n"
     ]
    },
    {
     "name": "stdout",
     "output_type": "stream",
     "text": [
      "calculating scores...\n",
      "computing bert embedding.\n"
     ]
    },
    {
     "name": "stderr",
     "output_type": "stream",
     "text": [
      "100%|██████████| 1014/1014 [06:49<00:00,  2.48it/s]\n"
     ]
    },
    {
     "name": "stdout",
     "output_type": "stream",
     "text": [
      "computing greedy matching.\n"
     ]
    },
    {
     "name": "stderr",
     "output_type": "stream",
     "text": [
      "100%|██████████| 557/557 [00:18<00:00, 30.23it/s]\n"
     ]
    },
    {
     "name": "stdout",
     "output_type": "stream",
     "text": [
      "done in 431.02 seconds, 82.64 sentences/sec\n",
      "BERTScore F1: 0.8773\n"
     ]
    },
    {
     "data": {
      "text/plain": [
       "{'BERTScore_P': 0.89637291431427,\n",
       " 'BERTScore_R': 0.859321653842926,\n",
       " 'BERTScore_F1': 0.877304196357727}"
      ]
     },
     "execution_count": 8,
     "metadata": {},
     "output_type": "execute_result"
    }
   ],
   "source": [
    "evaluate_bertscore(df, pred_col='qwen3', ref_col='abstract')"
   ]
  },
  {
   "cell_type": "code",
   "execution_count": 5,
   "id": "02950398",
   "metadata": {},
   "outputs": [
    {
     "name": "stderr",
     "output_type": "stream",
     "text": [
      "Some weights of RobertaModel were not initialized from the model checkpoint at roberta-large and are newly initialized: ['pooler.dense.bias', 'pooler.dense.weight']\n",
      "You should probably TRAIN this model on a down-stream task to be able to use it for predictions and inference.\n"
     ]
    },
    {
     "name": "stdout",
     "output_type": "stream",
     "text": [
      "calculating scores...\n",
      "computing bert embedding.\n"
     ]
    },
    {
     "name": "stderr",
     "output_type": "stream",
     "text": [
      "100%|██████████| 1014/1014 [05:34<00:00,  3.03it/s]\n"
     ]
    },
    {
     "name": "stdout",
     "output_type": "stream",
     "text": [
      "computing greedy matching.\n"
     ]
    },
    {
     "name": "stderr",
     "output_type": "stream",
     "text": [
      "100%|██████████| 557/557 [00:17<00:00, 31.90it/s]\n"
     ]
    },
    {
     "name": "stdout",
     "output_type": "stream",
     "text": [
      "done in 354.50 seconds, 100.48 sentences/sec\n",
      "BERTScore F1: 0.8410\n"
     ]
    },
    {
     "data": {
      "text/plain": [
       "{'BERTScore_P': 0.8739364147186279,\n",
       " 'BERTScore_R': 0.8107424378395081,\n",
       " 'BERTScore_F1': 0.840957522392273}"
      ]
     },
     "execution_count": 5,
     "metadata": {},
     "output_type": "execute_result"
    }
   ],
   "source": [
    "evaluate_bertscore(df, pred_col='annotation', ref_col='abstract')"
   ]
  },
  {
   "cell_type": "markdown",
   "id": "c3351f35",
   "metadata": {},
   "source": [
    "## MoverScore"
   ]
  },
  {
   "cell_type": "code",
   "execution_count": 20,
   "id": "0706f688",
   "metadata": {},
   "outputs": [
    {
     "name": "stdout",
     "output_type": "stream",
     "text": [
      "The autoreload extension is already loaded. To reload it, use:\n",
      "  %reload_ext autoreload\n"
     ]
    }
   ],
   "source": [
    "%load_ext autoreload\n",
    "%autoreload 2"
   ]
  },
  {
   "cell_type": "code",
   "execution_count": 12,
   "id": "158947a8",
   "metadata": {},
   "outputs": [
    {
     "name": "stdout",
     "output_type": "stream",
     "text": [
      "tokenizer.model_max_length:  512\n"
     ]
    },
    {
     "name": "stderr",
     "output_type": "stream",
     "text": [
      "[nltk_data] Downloading package stopwords to /home/zqlyu2/nltk_data...\n",
      "[nltk_data]   Package stopwords is already up-to-date!\n"
     ]
    }
   ],
   "source": [
    "import sys\n",
    "sys.path.append(str(home / 'projects/TLDR/evaluation/ref_based'))\n",
    "\n",
    "from moverscore_v2 import get_idf_dict, word_mover_score \n",
    "import nltk\n",
    "nltk.download('stopwords')\n",
    "from nltk.corpus import stopwords\n",
    "\n",
    "import numpy as np\n",
    "\n",
    "import os\n",
    "os.environ[\"TOKENIZERS_PARALLELISM\"] = \"false\"\n",
    "\n",
    "def evaluate_moverscore(df, pred_col='prediction', ref_col='reference'):\n",
    "    preds = df[pred_col].tolist()\n",
    "    refs = df[ref_col].tolist()\n",
    "\n",
    "    idf_dict_hyp = get_idf_dict(preds)\n",
    "    idf_dict_ref = get_idf_dict(refs)\n",
    "\n",
    "    scores = word_mover_score(refs, preds, idf_dict_ref, idf_dict_hyp, stop_words=stopwords.words('english'))\n",
    "    print(f'MoverScore: {np.mean(scores):.4f}')\n",
    "\n",
    "    return np.mean(scores)"
   ]
  },
  {
   "cell_type": "markdown",
   "id": "03d26011",
   "metadata": {},
   "source": [
    "### Human-written annotations as references"
   ]
  },
  {
   "cell_type": "markdown",
   "id": "735fcb81",
   "metadata": {},
   "source": [
    "#### LLMs' performace"
   ]
  },
  {
   "cell_type": "code",
   "execution_count": 13,
   "id": "728a265e",
   "metadata": {},
   "outputs": [
    {
     "name": "stderr",
     "output_type": "stream",
     "text": [
      "Token indices sequence length is longer than the specified maximum sequence length for this model (14975 > 512). Running this sequence through the model will result in indexing errors\n",
      "Token indices sequence length is longer than the specified maximum sequence length for this model (81328 > 512). Running this sequence through the model will result in indexing errors\n",
      "Calculating WMS:   0%|                                                                                                                    | 0/279 [00:00<?, ?it/s]DistilBertSdpaAttention is used but `torch.nn.functional.scaled_dot_product_attention` does not support `output_attentions=True` or `head_mask`. Falling back to the manual attention implementation, but specifying the manual implementation will be required from Transformers version v5.0.0 onwards. This warning can be removed using the argument `attn_implementation=\"eager\"` when loading the model.\n",
      "Token indices sequence length is longer than the specified maximum sequence length for this model (14975 > 512). Running this sequence through the model will result in indexing errors\n",
      "Calculating WMS: 100%|██████████████████████████████████████████████████████████████████████████████████████████████████████████| 279/279 [03:24<00:00,  1.36it/s]\n"
     ]
    },
    {
     "name": "stdout",
     "output_type": "stream",
     "text": [
      "MoverScore: 0.5629\n"
     ]
    },
    {
     "data": {
      "text/plain": [
       "np.float64(0.5629107150349321)"
      ]
     },
     "execution_count": 13,
     "metadata": {},
     "output_type": "execute_result"
    }
   ],
   "source": [
    "evaluate_moverscore(df, pred_col='gemma3', ref_col='annotation')"
   ]
  },
  {
   "cell_type": "code",
   "execution_count": 14,
   "id": "5dcc1e95",
   "metadata": {},
   "outputs": [
    {
     "name": "stderr",
     "output_type": "stream",
     "text": [
      "Calculating WMS: 100%|██████████████████████████████████████████████████████████████████████████████████████████████████████████| 279/279 [06:52<00:00,  1.48s/it]"
     ]
    },
    {
     "name": "stdout",
     "output_type": "stream",
     "text": [
      "MoverScore: 0.5574\n"
     ]
    },
    {
     "name": "stderr",
     "output_type": "stream",
     "text": [
      "\n"
     ]
    },
    {
     "data": {
      "text/plain": [
       "np.float64(0.5574020428751254)"
      ]
     },
     "execution_count": 14,
     "metadata": {},
     "output_type": "execute_result"
    }
   ],
   "source": [
    "evaluate_moverscore(df, pred_col='llama4', ref_col='annotation')"
   ]
  },
  {
   "cell_type": "code",
   "execution_count": 20,
   "id": "049ffff9",
   "metadata": {},
   "outputs": [
    {
     "name": "stderr",
     "output_type": "stream",
     "text": [
      "Token indices sequence length is longer than the specified maximum sequence length for this model (22174 > 512). Running this sequence through the model will result in indexing errors\n",
      "Token indices sequence length is longer than the specified maximum sequence length for this model (2481 > 512). Running this sequence through the model will result in indexing errors\n",
      "Token indices sequence length is longer than the specified maximum sequence length for this model (982 > 512). Running this sequence through the model will result in indexing errors\n",
      "Token indices sequence length is longer than the specified maximum sequence length for this model (38381 > 512). Running this sequence through the model will result in indexing errors\n",
      "Calculating WMS:   0%|                                                                   | 0/279 [00:00<?, ?it/s]DistilBertSdpaAttention is used but `torch.nn.functional.scaled_dot_product_attention` does not support `output_attentions=True` or `head_mask`. Falling back to the manual attention implementation, but specifying the manual implementation will be required from Transformers version v5.0.0 onwards. This warning can be removed using the argument `attn_implementation=\"eager\"` when loading the model.\n",
      "Calculating WMS:   5%|██▊                                                     | 14/279 [03:40<1:13:13, 16.58s/it]Token indices sequence length is longer than the specified maximum sequence length for this model (982 > 512). Running this sequence through the model will result in indexing errors\n",
      "Calculating WMS: 100%|█████████████████████████████████████████████████████████| 279/279 [41:28<00:00,  8.92s/it]\n"
     ]
    },
    {
     "data": {
      "text/plain": [
       "0.5512474859691321"
      ]
     },
     "execution_count": 20,
     "metadata": {},
     "output_type": "execute_result"
    }
   ],
   "source": [
    "evaluate_moverscore(df, pred_col='qwen3', ref_col='annotation')"
   ]
  },
  {
   "cell_type": "code",
   "execution_count": 7,
   "id": "a38c41a0",
   "metadata": {},
   "outputs": [
    {
     "name": "stderr",
     "output_type": "stream",
     "text": [
      "Calculating WMS: 100%|████████████████████████████████████████████████████████| 279/279 [55:58<00:00, 12.04s/it]\n"
     ]
    },
    {
     "data": {
      "text/plain": [
       "0.5462896681747191"
      ]
     },
     "execution_count": 7,
     "metadata": {},
     "output_type": "execute_result"
    }
   ],
   "source": [
    "evaluate_moverscore(df, pred_col='qwq', ref_col='annotation')"
   ]
  },
  {
   "cell_type": "markdown",
   "id": "4688852c",
   "metadata": {},
   "source": [
    "#### Multi-annotated abstracts as a human-evaluation baseline"
   ]
  },
  {
   "cell_type": "code",
   "execution_count": 10,
   "id": "9a052747",
   "metadata": {},
   "outputs": [
    {
     "name": "stderr",
     "output_type": "stream",
     "text": [
      "Calculating WMS: 100%|██████████████████████████████████████████████████████████| 50/50 [00:46<00:00,  1.08it/s]\n",
      "Calculating WMS: 100%|██████████████████████████████████████████████████████████| 50/50 [00:43<00:00,  1.16it/s]\n",
      "Calculating WMS: 100%|██████████████████████████████████████████████████████████| 50/50 [00:44<00:00,  1.12it/s]\n",
      "Calculating WMS: 100%|██████████████████████████████████████████████████████████| 50/50 [00:45<00:00,  1.10it/s]\n",
      "Calculating WMS: 100%|██████████████████████████████████████████████████████████| 50/50 [00:47<00:00,  1.05it/s]\n",
      "Calculating WMS: 100%|██████████████████████████████████████████████████████████| 50/50 [00:40<00:00,  1.23it/s]\n",
      "Calculating WMS: 100%|██████████████████████████████████████████████████████████| 50/50 [00:44<00:00,  1.12it/s]\n",
      "Calculating WMS: 100%|██████████████████████████████████████████████████████████| 50/50 [00:38<00:00,  1.31it/s]\n",
      "Calculating WMS: 100%|██████████████████████████████████████████████████████████| 50/50 [00:39<00:00,  1.26it/s]\n",
      "Calculating WMS: 100%|██████████████████████████████████████████████████████████| 50/50 [00:39<00:00,  1.27it/s]\n",
      "100%|███████████████████████████████████████████████████████████████████████████| 10/10 [07:18<00:00, 43.86s/it]"
     ]
    },
    {
     "name": "stdout",
     "output_type": "stream",
     "text": [
      "=== 10次抽样平均 ===\n",
      "MoverScore: 0.5644\n"
     ]
    },
    {
     "name": "stderr",
     "output_type": "stream",
     "text": [
      "\n"
     ]
    }
   ],
   "source": [
    "import random\n",
    "from tqdm import tqdm\n",
    "\n",
    "all_scores = []\n",
    "n_sample = 10  # 抽样次数\n",
    "\n",
    "for _ in tqdm(range(n_sample)):\n",
    "    grouped = multi_annotated.groupby('paper_id')\n",
    "    results = []\n",
    "    for paper_id, group in grouped:\n",
    "        annotations = group['annotation'].tolist()\n",
    "        if len(annotations) < 2:\n",
    "            continue\n",
    "        ref = random.choice(annotations)\n",
    "        preds = [a for a in annotations if a != ref]\n",
    "        for pred in preds:\n",
    "            results.append({'paper_id': paper_id, 'reference': ref, 'prediction': pred})\n",
    "\n",
    "    eval_df = pd.DataFrame(results)\n",
    "    score = evaluate_moverscore(eval_df, pred_col='prediction', ref_col='reference')\n",
    "    all_scores.append(score)\n",
    "\n",
    "# 计算平均分\n",
    "moverscore_avg = np.mean(all_scores)\n",
    "\n",
    "print(\"=== 10次抽样平均 ===\")\n",
    "print(\"MoverScore: {:.4f}\".format(moverscore_avg))"
   ]
  },
  {
   "cell_type": "markdown",
   "id": "ac24c13e",
   "metadata": {},
   "source": [
    "### Abstracts as references"
   ]
  },
  {
   "cell_type": "code",
   "execution_count": 15,
   "id": "5f7a2f62",
   "metadata": {},
   "outputs": [
    {
     "name": "stderr",
     "output_type": "stream",
     "text": [
      "Calculating WMS: 100%|██████████████████████████████████████████████████████████████████████████████████████████████████████████| 279/279 [30:16<00:00,  6.51s/it]"
     ]
    },
    {
     "name": "stdout",
     "output_type": "stream",
     "text": [
      "MoverScore: 0.5489\n"
     ]
    },
    {
     "name": "stderr",
     "output_type": "stream",
     "text": [
      "\n"
     ]
    },
    {
     "data": {
      "text/plain": [
       "np.float64(0.5489216601395974)"
      ]
     },
     "execution_count": 15,
     "metadata": {},
     "output_type": "execute_result"
    }
   ],
   "source": [
    "evaluate_moverscore(df, pred_col='gemma3', ref_col='abstract')"
   ]
  },
  {
   "cell_type": "code",
   "execution_count": 16,
   "id": "f83c86bc",
   "metadata": {},
   "outputs": [
    {
     "name": "stderr",
     "output_type": "stream",
     "text": [
      "Calculating WMS: 100%|██████████████████████████████████████████████████████████████████████████████████████████████████████████| 279/279 [38:09<00:00,  8.20s/it]"
     ]
    },
    {
     "name": "stdout",
     "output_type": "stream",
     "text": [
      "MoverScore: 0.5404\n"
     ]
    },
    {
     "name": "stderr",
     "output_type": "stream",
     "text": [
      "\n"
     ]
    },
    {
     "data": {
      "text/plain": [
       "np.float64(0.5404280791106816)"
      ]
     },
     "execution_count": 16,
     "metadata": {},
     "output_type": "execute_result"
    }
   ],
   "source": [
    "evaluate_moverscore(df, pred_col='llama4', ref_col='abstract')"
   ]
  },
  {
   "cell_type": "code",
   "execution_count": 11,
   "id": "06b13164",
   "metadata": {},
   "outputs": [
    {
     "name": "stderr",
     "output_type": "stream",
     "text": [
      "Calculating WMS: 100%|██████████████████████████████████████████████████████████████████████████████████████████████████████████| 279/279 [54:37<00:00, 11.75s/it]"
     ]
    },
    {
     "name": "stdout",
     "output_type": "stream",
     "text": [
      "MoverScore: 0.5835\n"
     ]
    },
    {
     "name": "stderr",
     "output_type": "stream",
     "text": [
      "\n"
     ]
    },
    {
     "data": {
      "text/plain": [
       "np.float64(0.5834857282245158)"
      ]
     },
     "execution_count": 11,
     "metadata": {},
     "output_type": "execute_result"
    }
   ],
   "source": [
    "evaluate_moverscore(df, pred_col='qwen3', ref_col='abstract')"
   ]
  },
  {
   "cell_type": "code",
   "execution_count": 5,
   "id": "05007b24",
   "metadata": {},
   "outputs": [
    {
     "name": "stderr",
     "output_type": "stream",
     "text": [
      "Token indices sequence length is longer than the specified maximum sequence length for this model (635 > 512). Running this sequence through the model will result in indexing errors\n",
      "Token indices sequence length is longer than the specified maximum sequence length for this model (612 > 512). Running this sequence through the model will result in indexing errors\n",
      "Token indices sequence length is longer than the specified maximum sequence length for this model (876 > 512). Running this sequence through the model will result in indexing errors\n",
      "Token indices sequence length is longer than the specified maximum sequence length for this model (747 > 512). Running this sequence through the model will result in indexing errors\n",
      "Calculating WMS:   0%|          | 0/279 [00:00<?, ?it/s]Token indices sequence length is longer than the specified maximum sequence length for this model (635 > 512). Running this sequence through the model will result in indexing errors\n",
      "DistilBertSdpaAttention is used but `torch.nn.functional.scaled_dot_product_attention` does not support `output_attentions=True` or `head_mask`. Falling back to the manual attention implementation, but specifying the manual implementation will be required from Transformers version v5.0.0 onwards. This warning can be removed using the argument `attn_implementation=\"eager\"` when loading the model.\n",
      "Calculating WMS: 100%|██████████| 279/279 [25:33<00:00,  5.50s/it]\n"
     ]
    },
    {
     "data": {
      "text/plain": [
       "np.float64(0.5301549328571855)"
      ]
     },
     "execution_count": 5,
     "metadata": {},
     "output_type": "execute_result"
    }
   ],
   "source": [
    "evaluate_moverscore(df, pred_col='annotation', ref_col='abstract')"
   ]
  }
 ],
 "metadata": {
  "kernelspec": {
   "display_name": "Python 3 (ipykernel)",
   "language": "python",
   "name": "python3"
  },
  "language_info": {
   "codemirror_mode": {
    "name": "ipython",
    "version": 3
   },
   "file_extension": ".py",
   "mimetype": "text/x-python",
   "name": "python",
   "nbconvert_exporter": "python",
   "pygments_lexer": "ipython3",
   "version": "3.13.2"
  }
 },
 "nbformat": 4,
 "nbformat_minor": 5
}
