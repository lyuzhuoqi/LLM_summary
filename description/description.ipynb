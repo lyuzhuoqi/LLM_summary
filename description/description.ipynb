{
 "cells": [
  {
   "cell_type": "code",
   "execution_count": 1,
   "id": "5a337ca9",
   "metadata": {},
   "outputs": [
    {
     "name": "stdout",
     "output_type": "stream",
     "text": [
      "Loaded llama4 data with shape: (35636, 1)\n",
      "Loaded gemma3 data with shape: (35636, 1)\n",
      "Loaded qwen3 data with shape: (35636, 1)\n"
     ]
    },
    {
     "data": {
      "text/html": [
       "<div>\n",
       "<style scoped>\n",
       "    .dataframe tbody tr th:only-of-type {\n",
       "        vertical-align: middle;\n",
       "    }\n",
       "\n",
       "    .dataframe tbody tr th {\n",
       "        vertical-align: top;\n",
       "    }\n",
       "\n",
       "    .dataframe thead th {\n",
       "        text-align: right;\n",
       "    }\n",
       "</style>\n",
       "<table border=\"1\" class=\"dataframe\">\n",
       "  <thead>\n",
       "    <tr style=\"text-align: right;\">\n",
       "      <th></th>\n",
       "      <th>doi</th>\n",
       "      <th>paper_id</th>\n",
       "      <th>abstract</th>\n",
       "      <th>annotation</th>\n",
       "      <th>llama4</th>\n",
       "      <th>gemma3</th>\n",
       "      <th>qwen3</th>\n",
       "    </tr>\n",
       "  </thead>\n",
       "  <tbody>\n",
       "    <tr>\n",
       "      <th>0</th>\n",
       "      <td>10.1073/pnas.91.7.2757</td>\n",
       "      <td>107202074</td>\n",
       "      <td>The origin and taxonomic status of domesticate...</td>\n",
       "      <td>A demonstration that cattle have been domestic...</td>\n",
       "      <td>This study suggests that there were two distin...</td>\n",
       "      <td>This study refutes the single origin of domest...</td>\n",
       "      <td>mtDNA analysis reveals ancient divergence betw...</td>\n",
       "    </tr>\n",
       "    <tr>\n",
       "      <th>1</th>\n",
       "      <td>10.1093/genetics/154.4.1785</td>\n",
       "      <td>83366887</td>\n",
       "      <td>Abstract The domestic pig originates from the ...</td>\n",
       "      <td>Evidence is presented for independent domestic...</td>\n",
       "      <td>This study, among others, provides evidence of...</td>\n",
       "      <td>This study provides evidence for independent d...</td>\n",
       "      <td>This study demonstrates independent pig domest...</td>\n",
       "    </tr>\n",
       "    <tr>\n",
       "      <th>2</th>\n",
       "      <td>10.1073/pnas.96.16.9252</td>\n",
       "      <td>122095374</td>\n",
       "      <td>We previously mapped a quantitative trait locu...</td>\n",
       "      <td>This paper shows how the identity-by-descent a...</td>\n",
       "      <td>The study describes the fine-mapping approach ...</td>\n",
       "      <td>This study used fine-mapping methods to identi...</td>\n",
       "      <td>This QTL study identifies a 5cM bovine chromos...</td>\n",
       "    </tr>\n",
       "    <tr>\n",
       "      <th>3</th>\n",
       "      <td>10.1101/gr.10.2.220</td>\n",
       "      <td>100831446</td>\n",
       "      <td>A genome-wide linkage disequilibrium (LD) map ...</td>\n",
       "      <td>The pattern of linkage disequilibrium (LD) acr...</td>\n",
       "      <td>This study demonstrated that linkage disequili...</td>\n",
       "      <td>Reference 35 reports long-range LD in Dutch bl...</td>\n",
       "      <td>\"Genome-wide analysis of Dutch Black-and-white...</td>\n",
       "    </tr>\n",
       "    <tr>\n",
       "      <th>4</th>\n",
       "      <td>10.1126/science.8134840</td>\n",
       "      <td>17452622</td>\n",
       "      <td>The European wild boar was crossed with the do...</td>\n",
       "      <td>The first paper to show the use of divergent i...</td>\n",
       "      <td>The data reported here constitute a comprehens...</td>\n",
       "      <td>This study identifies a major QTL on SSC4 affe...</td>\n",
       "      <td>Identifies a major QTL on chromosome 4 underly...</td>\n",
       "    </tr>\n",
       "    <tr>\n",
       "      <th>...</th>\n",
       "      <td>...</td>\n",
       "      <td>...</td>\n",
       "      <td>...</td>\n",
       "      <td>...</td>\n",
       "      <td>...</td>\n",
       "      <td>...</td>\n",
       "      <td>...</td>\n",
       "    </tr>\n",
       "    <tr>\n",
       "      <th>35631</th>\n",
       "      <td>10.2337/db08-1168</td>\n",
       "      <td>4860455</td>\n",
       "      <td>OBJECTIVE—Regulatory T-cells (Tregs) have cata...</td>\n",
       "      <td>This article describes the good manufacturing ...</td>\n",
       "      <td>These studies suggest that isolation and expan...</td>\n",
       "      <td>This study describes an efficient protocol for...</td>\n",
       "      <td>This study demonstrates that CD4+CD127lo/−CD25...</td>\n",
       "    </tr>\n",
       "    <tr>\n",
       "      <th>35632</th>\n",
       "      <td>10.1126/science.aar3246</td>\n",
       "      <td>4860145</td>\n",
       "      <td>Engineering cytokine-receptor pairs Interleuki...</td>\n",
       "      <td>This study reports the generation of an orthog...</td>\n",
       "      <td>This study demonstrates that orthogonal IL-2 a...</td>\n",
       "      <td>Reference 48 describes the engineering of a sy...</td>\n",
       "      <td>This work describes engineered synthetic IL-2 ...</td>\n",
       "    </tr>\n",
       "    <tr>\n",
       "      <th>35633</th>\n",
       "      <td>10.1126/science.aad2791</td>\n",
       "      <td>62290395</td>\n",
       "      <td>T cells target peptide combos One of the endur...</td>\n",
       "      <td>This article shows that some diabetogenic T ce...</td>\n",
       "      <td>This study identifies an important mechanism u...</td>\n",
       "      <td>Reference 51 shows that autoreactive T cells c...</td>\n",
       "      <td>This study identifies autoimmune T cell recogn...</td>\n",
       "    </tr>\n",
       "    <tr>\n",
       "      <th>35634</th>\n",
       "      <td>10.1073/pnas.1902566116</td>\n",
       "      <td>82979762</td>\n",
       "      <td>Polymorphic HLAs form the primary immune barri...</td>\n",
       "      <td>This article describes the development of gene...</td>\n",
       "      <td>This study presents a comprehensive strategy t...</td>\n",
       "      <td>This work demonstrates that a combined strateg...</td>\n",
       "      <td>This study reports a genome-editing strategy t...</td>\n",
       "    </tr>\n",
       "    <tr>\n",
       "      <th>35635</th>\n",
       "      <td>10.4049/jimmunol.167.3.1245</td>\n",
       "      <td>20436631</td>\n",
       "      <td>Abstract Thymectomy in mice on neonatal day 3 ...</td>\n",
       "      <td>Together with Levings et al. (2001), Jonuleit ...</td>\n",
       "      <td>This study identifies and characterizes human ...</td>\n",
       "      <td>This study identifies a human CD4+CD25high T c...</td>\n",
       "      <td>This study identifies human CD4+CD25high regul...</td>\n",
       "    </tr>\n",
       "  </tbody>\n",
       "</table>\n",
       "<p>35621 rows × 7 columns</p>\n",
       "</div>"
      ],
      "text/plain": [
       "                               doi   paper_id  \\\n",
       "0           10.1073/pnas.91.7.2757  107202074   \n",
       "1      10.1093/genetics/154.4.1785   83366887   \n",
       "2          10.1073/pnas.96.16.9252  122095374   \n",
       "3              10.1101/gr.10.2.220  100831446   \n",
       "4          10.1126/science.8134840   17452622   \n",
       "...                            ...        ...   \n",
       "35631            10.2337/db08-1168    4860455   \n",
       "35632      10.1126/science.aar3246    4860145   \n",
       "35633      10.1126/science.aad2791   62290395   \n",
       "35634      10.1073/pnas.1902566116   82979762   \n",
       "35635  10.4049/jimmunol.167.3.1245   20436631   \n",
       "\n",
       "                                                abstract  \\\n",
       "0      The origin and taxonomic status of domesticate...   \n",
       "1      Abstract The domestic pig originates from the ...   \n",
       "2      We previously mapped a quantitative trait locu...   \n",
       "3      A genome-wide linkage disequilibrium (LD) map ...   \n",
       "4      The European wild boar was crossed with the do...   \n",
       "...                                                  ...   \n",
       "35631  OBJECTIVE—Regulatory T-cells (Tregs) have cata...   \n",
       "35632  Engineering cytokine-receptor pairs Interleuki...   \n",
       "35633  T cells target peptide combos One of the endur...   \n",
       "35634  Polymorphic HLAs form the primary immune barri...   \n",
       "35635  Abstract Thymectomy in mice on neonatal day 3 ...   \n",
       "\n",
       "                                              annotation  \\\n",
       "0      A demonstration that cattle have been domestic...   \n",
       "1      Evidence is presented for independent domestic...   \n",
       "2      This paper shows how the identity-by-descent a...   \n",
       "3      The pattern of linkage disequilibrium (LD) acr...   \n",
       "4      The first paper to show the use of divergent i...   \n",
       "...                                                  ...   \n",
       "35631  This article describes the good manufacturing ...   \n",
       "35632  This study reports the generation of an orthog...   \n",
       "35633  This article shows that some diabetogenic T ce...   \n",
       "35634  This article describes the development of gene...   \n",
       "35635  Together with Levings et al. (2001), Jonuleit ...   \n",
       "\n",
       "                                                  llama4  \\\n",
       "0      This study suggests that there were two distin...   \n",
       "1      This study, among others, provides evidence of...   \n",
       "2      The study describes the fine-mapping approach ...   \n",
       "3      This study demonstrated that linkage disequili...   \n",
       "4      The data reported here constitute a comprehens...   \n",
       "...                                                  ...   \n",
       "35631  These studies suggest that isolation and expan...   \n",
       "35632  This study demonstrates that orthogonal IL-2 a...   \n",
       "35633  This study identifies an important mechanism u...   \n",
       "35634  This study presents a comprehensive strategy t...   \n",
       "35635  This study identifies and characterizes human ...   \n",
       "\n",
       "                                                  gemma3  \\\n",
       "0      This study refutes the single origin of domest...   \n",
       "1      This study provides evidence for independent d...   \n",
       "2      This study used fine-mapping methods to identi...   \n",
       "3      Reference 35 reports long-range LD in Dutch bl...   \n",
       "4      This study identifies a major QTL on SSC4 affe...   \n",
       "...                                                  ...   \n",
       "35631  This study describes an efficient protocol for...   \n",
       "35632  Reference 48 describes the engineering of a sy...   \n",
       "35633  Reference 51 shows that autoreactive T cells c...   \n",
       "35634  This work demonstrates that a combined strateg...   \n",
       "35635  This study identifies a human CD4+CD25high T c...   \n",
       "\n",
       "                                                   qwen3  \n",
       "0      mtDNA analysis reveals ancient divergence betw...  \n",
       "1      This study demonstrates independent pig domest...  \n",
       "2      This QTL study identifies a 5cM bovine chromos...  \n",
       "3      \"Genome-wide analysis of Dutch Black-and-white...  \n",
       "4      Identifies a major QTL on chromosome 4 underly...  \n",
       "...                                                  ...  \n",
       "35631  This study demonstrates that CD4+CD127lo/−CD25...  \n",
       "35632  This work describes engineered synthetic IL-2 ...  \n",
       "35633  This study identifies autoimmune T cell recogn...  \n",
       "35634  This study reports a genome-editing strategy t...  \n",
       "35635  This study identifies human CD4+CD25high regul...  \n",
       "\n",
       "[35621 rows x 7 columns]"
      ]
     },
     "execution_count": 1,
     "metadata": {},
     "output_type": "execute_result"
    }
   ],
   "source": [
    "import pandas as pd\n",
    "from pathlib import Path\n",
    "home = Path.home()\n",
    "\n",
    "# models = ['qwen3', 'gemma3', 'llama4', 'qwq']\n",
    "models = ['llama4', 'gemma3', 'qwen3']\n",
    "\n",
    "suffixes = None\n",
    "# suffixes = '_sent_shuffle'\n",
    "# suffixes = '_tail'\n",
    "\n",
    "if suffixes is not None:\n",
    "    csv_files = [home / f'projects/TLDR/data/paper_html_10.1038/abs_annotation/generated_annotations/{model}{suffixes}.txt' for model in models]\n",
    "else:\n",
    "    csv_files = [home / f'projects/TLDR/data/paper_html_10.1038/abs_annotation/generated_annotations/{model}.txt' for model in models]\n",
    "\n",
    "df = pd.read_csv(home / 'projects/TLDR/data/paper_html_10.1038/abs_annotation/test.tsv', sep='\\t')\n",
    "for model, csv_file in zip(models, csv_files):\n",
    "    with open(csv_file, encoding='utf-8') as f:\n",
    "        lines = f.readlines()\n",
    "        single_df = pd.DataFrame({model: [line.rstrip('\\n') for line in lines]})\n",
    "    print(f\"Loaded {model} data with shape: {single_df.shape}\")\n",
    "    df = df.join(single_df)\n",
    "\n",
    "for index in pd.read_csv(home / \"projects/TLDR/description/invalid_entry_in_test.txt\", sep='\\t', header=None).values.flatten().tolist():\n",
    "    df = df.drop(index-2)  # Adjusting for zero-based index\n",
    "df"
   ]
  },
  {
   "cell_type": "markdown",
   "id": "93c02046",
   "metadata": {},
   "source": [
    "# Length, novel n-gram ratio, and NEs per 100 words"
   ]
  },
  {
   "cell_type": "code",
   "execution_count": 3,
   "id": "f0536ff6",
   "metadata": {},
   "outputs": [
    {
     "name": "stderr",
     "output_type": "stream",
     "text": [
      "[nltk_data] Downloading package punkt to /home/lyuzhuoqi/nltk_data...\n",
      "[nltk_data]   Package punkt is already up-to-date!\n"
     ]
    }
   ],
   "source": [
    "import numpy as np\n",
    "import nltk\n",
    "import spacy\n",
    "from tqdm import tqdm\n",
    "\n",
    "# Ensure nltk punkt is downloaded\n",
    "nltk.download('punkt')\n",
    "# Load spaCy English model for NER\n",
    "nlp = spacy.load(\"en_core_web_sm\")\n",
    "\n",
    "def length_statistics(texts):\n",
    "    num_words = []\n",
    "    num_sentences = []\n",
    "    words_per_sentence = []\n",
    "    for text in texts:\n",
    "        num_words_single = 0\n",
    "        sentences = nltk.sent_tokenize(text)\n",
    "        num_sentences.append(len(sentences))\n",
    "        for sent in sentences:\n",
    "            words = nltk.word_tokenize(sent)\n",
    "            words_per_sentence.append(len(words))\n",
    "            num_words_single += len(words)\n",
    "        num_words.append(num_words_single)\n",
    "    return {\n",
    "        '# of Words': f\"{np.mean(num_words):.2f}±{np.std(num_words):.2f}\",\n",
    "        '# of Sent.': f\"{np.mean(num_sentences):.2f}±{np.std(num_sentences):.2f}\",\n",
    "        '# of Words/Sent': f\"{np.mean(words_per_sentence):.2f}±{np.std(words_per_sentence):.2f}\"\n",
    "    }\n",
    "\n",
    "def get_ngrams(text, n):\n",
    "    words = str(text).split()\n",
    "    return set(tuple(words[i:i+n]) for i in range(len(words)-n+1))\n",
    "\n",
    "def percent_novel_ngrams(df, col_name: str, n):\n",
    "    abstracts_ngrams = df['abstract'].apply(lambda x: get_ngrams(x, n))\n",
    "    annotations_ngrams = df[col_name].apply(lambda x: get_ngrams(x, n))\n",
    "    novel_counts = []\n",
    "    total_counts = []\n",
    "    for ann, abs_ in zip(annotations_ngrams, abstracts_ngrams):\n",
    "        novel = ann - abs_\n",
    "        novel_counts.append(len(novel))\n",
    "        total_counts.append(len(ann))\n",
    "    mean = np.mean([nc/tc if tc > 0 else 0 for nc, tc in zip(novel_counts, total_counts)])\n",
    "    std = np.std([nc/tc if tc > 0 else 0 for nc, tc in zip(novel_counts, total_counts)])\n",
    "    return (mean * 100, std * 100)\n",
    "\n",
    "def named_entities_per_100_words(texts):\n",
    "    ne_per_100 = []\n",
    "    for text in tqdm(texts, desc=\"Counting named entities\"):\n",
    "        doc = nlp(text)\n",
    "        ents = len(doc.ents)\n",
    "        words = len([token for token in doc if token.is_alpha])\n",
    "        if words == 0:\n",
    "            ne_per_100.append(0)\n",
    "        else:\n",
    "            ne_per_100.append(100 * ents / words)\n",
    "    mean = np.mean(ne_per_100)\n",
    "    std = np.std(ne_per_100)\n",
    "    return mean, std"
   ]
  },
  {
   "cell_type": "code",
   "execution_count": 6,
   "id": "ba41da08",
   "metadata": {},
   "outputs": [
    {
     "name": "stdout",
     "output_type": "stream",
     "text": [
      "Processing gemma3...\n",
      "gemma3 Length Stats: {'# of Words': '29.06±11.03', '# of Sent.': '1.03±2.31', '# of Words/Sent': '28.31±9.59'}\n",
      "gemma3 % of novel n-grams: n=1: 47.25±12.15%, n=2: 81.81±11.81%, n=3: 92.58±8.95%\n"
     ]
    },
    {
     "name": "stderr",
     "output_type": "stream",
     "text": [
      "Counting named entities: 100%|████████████████████████████████████████████| 35621/35621 [02:55<00:00, 203.42it/s]\n"
     ]
    },
    {
     "name": "stdout",
     "output_type": "stream",
     "text": [
      "gemma3 # of NEs per 100 words: 4.49±4.64\n",
      "Processing llama4...\n",
      "llama4 Length Stats: {'# of Words': '43.11±764.99', '# of Sent.': '1.30±3.32', '# of Words/Sent': '33.24±628.57'}\n",
      "llama4 % of novel n-grams: n=1: 51.51±13.82%, n=2: 85.47±12.07%, n=3: 94.43±9.25%\n"
     ]
    },
    {
     "name": "stderr",
     "output_type": "stream",
     "text": [
      "Counting named entities: 100%|████████████████████████████████████████████| 35621/35621 [03:22<00:00, 176.15it/s]\n"
     ]
    },
    {
     "name": "stdout",
     "output_type": "stream",
     "text": [
      "llama4 # of NEs per 100 words: 3.46±4.28\n",
      "Processing qwen3...\n",
      "qwen3 Length Stats: {'# of Words': '153.29±1799.10', '# of Sent.': '6.22±91.82', '# of Words/Sent': '24.64±140.67'}\n",
      "qwen3 % of novel n-grams: n=1: 51.19±10.92%, n=2: 85.36±8.61%, n=3: 95.05±5.85%\n"
     ]
    },
    {
     "name": "stderr",
     "output_type": "stream",
     "text": [
      "Counting named entities: 100%|█████████████████████████████████████████████| 35621/35621 [08:40<00:00, 68.43it/s]"
     ]
    },
    {
     "name": "stdout",
     "output_type": "stream",
     "text": [
      "qwen3 # of NEs per 100 words: 4.89±4.37\n"
     ]
    },
    {
     "name": "stderr",
     "output_type": "stream",
     "text": [
      "\n"
     ]
    }
   ],
   "source": [
    "for model_name in ['gemma3', 'llama4', 'qwen3']:\n",
    "    print(f\"Processing {model_name}...\")\n",
    "    gen_text = df[model_name].tolist()\n",
    "\n",
    "    # Length statistics\n",
    "    gen_stats = length_statistics(gen_text)\n",
    "    print(f\"{model_name} Length Stats:\", gen_stats)\n",
    "\n",
    "    # Novel n-grams\n",
    "    gen_novel_1 = percent_novel_ngrams(df, model_name, 1)\n",
    "    gen_novel_2 = percent_novel_ngrams(df, model_name, 2)\n",
    "    gen_novel_3 = percent_novel_ngrams(df, model_name, 3)\n",
    "    print(f\"{model_name} % of novel n-grams: n=1: {gen_novel_1[0]:.2f}±{gen_novel_1[1]:.2f}%, n=2: {gen_novel_2[0]:.2f}±{gen_novel_2[1]:.2f}%, n=3: {gen_novel_3[0]:.2f}±{gen_novel_3[1]:.2f}%\")\n",
    "\n",
    "    # Named entities per 100 words\n",
    "    ne_mean, ne_std = named_entities_per_100_words(gen_text)\n",
    "    print(f\"{model_name} # of NEs per 100 words: {ne_mean:.2f}±{ne_std:.2f}\")"
   ]
  },
  {
   "cell_type": "code",
   "execution_count": 6,
   "id": "705e1872",
   "metadata": {},
   "outputs": [
    {
     "name": "stdout",
     "output_type": "stream",
     "text": [
      "annotation Length Stats: {'# of Words': '25.29±11.43', '# of Sent.': '1.14±0.41', '# of Words/Sent': '22.22±8.83'}\n",
      "annotation % of novel n-grams: n=1: 55.75±14.61%, n=2: 88.46±12.39%, n=3: 95.93±9.19%\n"
     ]
    },
    {
     "name": "stderr",
     "output_type": "stream",
     "text": [
      "Counting named entities: 100%|█████████████████████████████████████████████| 35621/35621 [08:44<00:00, 67.92it/s]"
     ]
    },
    {
     "name": "stdout",
     "output_type": "stream",
     "text": [
      "annotation # of NEs per 100 words: 5.56±5.93\n"
     ]
    },
    {
     "name": "stderr",
     "output_type": "stream",
     "text": [
      "\n"
     ]
    }
   ],
   "source": [
    "model_name = 'annotation'\n",
    "\n",
    "gen_text = df[model_name].tolist()\n",
    "\n",
    "# Length statistics\n",
    "gen_stats = length_statistics(gen_text)\n",
    "print(f\"{model_name} Length Stats:\", gen_stats)\n",
    "\n",
    "# Novel n-grams\n",
    "gen_novel_1 = percent_novel_ngrams(df, model_name, 1)\n",
    "gen_novel_2 = percent_novel_ngrams(df, model_name, 2)\n",
    "gen_novel_3 = percent_novel_ngrams(df, model_name, 3)\n",
    "print(f\"{model_name} % of novel n-grams: n=1: {gen_novel_1[0]:.2f}±{gen_novel_1[1]:.2f}%, n=2: {gen_novel_2[0]:.2f}±{gen_novel_2[1]:.2f}%, n=3: {gen_novel_3[0]:.2f}±{gen_novel_3[1]:.2f}%\")\n",
    "\n",
    "# Named entities per 100 words\n",
    "ne_mean, ne_std = named_entities_per_100_words(gen_text)\n",
    "print(f\"{model_name} # of NEs per 100 words: {ne_mean:.2f}±{ne_std:.2f}\")"
   ]
  },
  {
   "cell_type": "code",
   "execution_count": 7,
   "id": "a1adfd90",
   "metadata": {},
   "outputs": [
    {
     "name": "stdout",
     "output_type": "stream",
     "text": [
      "abstract Length Stats: {'# of Words': '191.58±82.53', '# of Sent.': '7.37±3.18', '# of Words/Sent': '26.01±11.71'}\n"
     ]
    },
    {
     "name": "stderr",
     "output_type": "stream",
     "text": [
      "Counting named entities: 100%|█████████████████████████████████████████████| 35621/35621 [16:23<00:00, 36.23it/s]"
     ]
    },
    {
     "name": "stdout",
     "output_type": "stream",
     "text": [
      "abstract # of NEs per 100 words: 5.11±3.83\n"
     ]
    },
    {
     "name": "stderr",
     "output_type": "stream",
     "text": [
      "\n"
     ]
    }
   ],
   "source": [
    "model_name = 'abstract'\n",
    "\n",
    "gen_text = df[model_name].tolist()\n",
    "\n",
    "# Length statistics\n",
    "gen_stats = length_statistics(gen_text)\n",
    "print(f\"{model_name} Length Stats:\", gen_stats)\n",
    "\n",
    "# Named entities per 100 words\n",
    "ne_mean, ne_std = named_entities_per_100_words(gen_text)\n",
    "print(f\"{model_name} # of NEs per 100 words: {ne_mean:.2f}±{ne_std:.2f}\")"
   ]
  },
  {
   "cell_type": "markdown",
   "id": "43cba31e",
   "metadata": {},
   "source": [
    "# Copy rate"
   ]
  },
  {
   "cell_type": "code",
   "execution_count": 7,
   "id": "7ac08a44",
   "metadata": {},
   "outputs": [
    {
     "data": {
      "text/html": [
       "<div>\n",
       "<style scoped>\n",
       "    .dataframe tbody tr th:only-of-type {\n",
       "        vertical-align: middle;\n",
       "    }\n",
       "\n",
       "    .dataframe tbody tr th {\n",
       "        vertical-align: top;\n",
       "    }\n",
       "\n",
       "    .dataframe thead th {\n",
       "        text-align: right;\n",
       "    }\n",
       "</style>\n",
       "<table border=\"1\" class=\"dataframe\">\n",
       "  <thead>\n",
       "    <tr style=\"text-align: right;\">\n",
       "      <th></th>\n",
       "      <th>abs_doi</th>\n",
       "      <th>paper_id</th>\n",
       "      <th>abstract</th>\n",
       "      <th>annotation</th>\n",
       "    </tr>\n",
       "  </thead>\n",
       "  <tbody>\n",
       "    <tr>\n",
       "      <th>0</th>\n",
       "      <td>10.1084/jem.20020319</td>\n",
       "      <td>123473941</td>\n",
       "      <td>CD30 is up-regulated in several human diseases...</td>\n",
       "      <td>References 38 and 39 report the identification...</td>\n",
       "    </tr>\n",
       "    <tr>\n",
       "      <th>1</th>\n",
       "      <td>10.1073/pnas.1424989112</td>\n",
       "      <td>28844728</td>\n",
       "      <td>Carbon monoxide occurs at relatively high conc...</td>\n",
       "      <td>This work is the first report of atmospheric t...</td>\n",
       "    </tr>\n",
       "    <tr>\n",
       "      <th>2</th>\n",
       "      <td>10.4049/jimmunol.164.8.4143</td>\n",
       "      <td>99473470</td>\n",
       "      <td>Abstract Inhibition of class II trans-activato...</td>\n",
       "      <td>References 43 and 44 report that the gene enco...</td>\n",
       "    </tr>\n",
       "    <tr>\n",
       "      <th>3</th>\n",
       "      <td>10.1073/pnas.0704665104</td>\n",
       "      <td>123031244</td>\n",
       "      <td>High-throughput direct sequencing techniques h...</td>\n",
       "      <td>This study characterizes typical nucleotide mi...</td>\n",
       "    </tr>\n",
       "    <tr>\n",
       "      <th>4</th>\n",
       "      <td>10.1093/bioinformatics/btu703</td>\n",
       "      <td>125314318</td>\n",
       "      <td>Summary: Annotating genetic variants, especial...</td>\n",
       "      <td>This paper presents a pathogenicity scoring me...</td>\n",
       "    </tr>\n",
       "  </tbody>\n",
       "</table>\n",
       "</div>"
      ],
      "text/plain": [
       "                         abs_doi   paper_id  \\\n",
       "0           10.1084/jem.20020319  123473941   \n",
       "1        10.1073/pnas.1424989112   28844728   \n",
       "2    10.4049/jimmunol.164.8.4143   99473470   \n",
       "3        10.1073/pnas.0704665104  123031244   \n",
       "4  10.1093/bioinformatics/btu703  125314318   \n",
       "\n",
       "                                            abstract  \\\n",
       "0  CD30 is up-regulated in several human diseases...   \n",
       "1  Carbon monoxide occurs at relatively high conc...   \n",
       "2  Abstract Inhibition of class II trans-activato...   \n",
       "3  High-throughput direct sequencing techniques h...   \n",
       "4  Summary: Annotating genetic variants, especial...   \n",
       "\n",
       "                                          annotation  \n",
       "0  References 38 and 39 report the identification...  \n",
       "1  This work is the first report of atmospheric t...  \n",
       "2  References 43 and 44 report that the gene enco...  \n",
       "3  This study characterizes typical nucleotide mi...  \n",
       "4  This paper presents a pathogenicity scoring me...  "
      ]
     },
     "execution_count": 7,
     "metadata": {},
     "output_type": "execute_result"
    }
   ],
   "source": [
    "train = pd.read_csv('/home/lyuzhuoqi/projects/TLDR/data/paper_html_10.1038/abs_annotation/train.tsv', sep='\\t')\n",
    "train"
   ]
  },
  {
   "cell_type": "code",
   "execution_count": 8,
   "id": "3b87bc28",
   "metadata": {},
   "outputs": [],
   "source": [
    "def ngram_copy_rate(df, model_col: str, train_samples: list, n: int = 3, threshold: float = 0.5):\n",
    "    \"\"\"\n",
    "    计算每个生成的summary与所有训练summary的n-gram重合比例，\n",
    "    并返回Zero Copy Rate(%)，Copy Rate > threshold (%)，Max(%)\n",
    "    - df: 包含生成summary的DataFrame\n",
    "    - model_col: 生成summary所在的列名\n",
    "    - train_samples: 训练样本summary的列表（字符串列表）\n",
    "    - n: n-gram的n，默认为3\n",
    "    \"\"\"\n",
    "    # 预处理训练样本的n-gram集合\n",
    "    train_ngrams = set()\n",
    "    for t in train_samples:\n",
    "        train_ngrams.update(get_ngrams(t, n))\n",
    "\n",
    "    copy_rates = []\n",
    "    for gen in df[model_col].tolist():\n",
    "        gen_ngrams = get_ngrams(gen, n)\n",
    "        if len(gen_ngrams) == 0:\n",
    "            copy_rates.append(0)\n",
    "            continue\n",
    "        overlap = gen_ngrams & train_ngrams\n",
    "        copy_rate = len(overlap) / len(gen_ngrams)\n",
    "        copy_rates.append(copy_rate)\n",
    "\n",
    "    copy_rates = np.array(copy_rates)\n",
    "    zero_copy_rate = np.sum(copy_rates == 0) / len(copy_rates) * 100\n",
    "    high_copy_rate = np.sum(copy_rates > threshold) / len(copy_rates) * 100\n",
    "    max_copy_rate = np.max(copy_rates) * 100 if len(copy_rates) > 0 else 0\n",
    "\n",
    "    return zero_copy_rate, high_copy_rate, max_copy_rate\n"
   ]
  },
  {
   "cell_type": "code",
   "execution_count": 9,
   "id": "64859a4c",
   "metadata": {},
   "outputs": [
    {
     "name": "stdout",
     "output_type": "stream",
     "text": [
      "gemma3 3-gram Copy Rate: Zero=91.25%, High Proportion=0.28%, Max=27.78%\n",
      "llama4 3-gram Copy Rate: Zero=86.63%, High Proportion=1.05%, Max=46.15%\n",
      "qwen3 3-gram Copy Rate: Zero=94.88%, High Proportion=0.03%, Max=95.24%\n"
     ]
    }
   ],
   "source": [
    "for model_name in ['gemma3', 'llama4', 'qwen3']:\n",
    "    zero, high, maxv = ngram_copy_rate(df, model_name, train['abstract'].to_list()+train['annotation'].to_list(), n=3, threshold=0.1)\n",
    "    print(f\"{model_name} 3-gram Copy Rate: Zero={zero:.2f}%, High Proportion={high:.2f}%, Max={maxv:.2f}%\")"
   ]
  }
 ],
 "metadata": {
  "kernelspec": {
   "display_name": "Python 3 (ipykernel)",
   "language": "python",
   "name": "python3"
  }
 },
 "nbformat": 4,
 "nbformat_minor": 5
}
